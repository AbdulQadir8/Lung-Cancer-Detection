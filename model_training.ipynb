{
  "nbformat": 4,
  "nbformat_minor": 0,
  "metadata": {
    "colab": {
      "provenance": [],
      "mount_file_id": "19xsqeptucMJLxuQBQf2r5fYOTY-cVHXC",
      "authorship_tag": "ABX9TyNIGn/8q/Ayz8cRABdwHBjD",
      "include_colab_link": true
    },
    "kernelspec": {
      "name": "python3",
      "display_name": "Python 3"
    },
    "language_info": {
      "name": "python"
    }
  },
  "cells": [
    {
      "cell_type": "markdown",
      "metadata": {
        "id": "view-in-github",
        "colab_type": "text"
      },
      "source": [
        "<a href=\"https://colab.research.google.com/github/AbdulQadir8/Lung-Cancer-Detection/blob/main/model_training.ipynb\" target=\"_parent\"><img src=\"https://colab.research.google.com/assets/colab-badge.svg\" alt=\"Open In Colab\"/></a>"
      ]
    },
    {
      "cell_type": "code",
      "source": [
        "!pip install split-folders"
      ],
      "metadata": {
        "colab": {
          "base_uri": "https://localhost:8080/"
        },
        "id": "LPIRsVNlQSBl",
        "outputId": "b13b0490-3c67-4d90-aa13-ad14c83792dc"
      },
      "execution_count": null,
      "outputs": [
        {
          "output_type": "stream",
          "name": "stdout",
          "text": [
            "Collecting split-folders\n",
            "  Downloading split_folders-0.5.1-py3-none-any.whl (8.4 kB)\n",
            "Installing collected packages: split-folders\n",
            "Successfully installed split-folders-0.5.1\n"
          ]
        }
      ]
    },
    {
      "cell_type": "code",
      "execution_count": 1,
      "metadata": {
        "id": "gLBt-bt9BJuY"
      },
      "outputs": [],
      "source": [
        "import os\n",
        "import shutil\n",
        "import random\n",
        "\n",
        "from tensorflow.keras.preprocessing.image import ImageDataGenerator\n",
        "\n",
        "from tensorflow.keras import layers\n",
        "from tensorflow.keras import models\n",
        "from keras.models import load_model\n",
        "\n",
        "from tensorflow.keras import optimizers\n",
        "from tensorflow.keras import callbacks\n",
        "\n",
        "import matplotlib.pyplot as plt\n",
        "\n",
        "import pandas as pd\n",
        "import numpy as np\n",
        "\n",
        "#from tensorflow.keras.models import load_model # !!!!!!!!!!!!!!!! import models already\n",
        "\n",
        "from sklearn.metrics import classification_report\n",
        "from sklearn.metrics import confusion_matrix\n",
        "\n",
        "from tensorflow.keras import Input\n",
        "from tensorflow.keras import Model\n",
        "\n",
        "from tensorflow.keras.applications.mobilenet_v2 import MobileNetV2"
      ]
    },
    {
      "cell_type": "markdown",
      "source": [
        "# Create the directory structure for a dataset."
      ],
      "metadata": {
        "id": "QsbURkudcmdO"
      }
    },
    {
      "cell_type": "markdown",
      "source": [
        "train (all of the data is in this folder)\n",
        "\n",
        "lung cancer dataset\n",
        "\n",
        "train\n",
        "\n",
        "negative\n",
        "positive\n",
        "validation\n",
        "\n",
        "negative\n",
        "positive\n",
        "test\n",
        "\n",
        "negative\n",
        "positive"
      ],
      "metadata": {
        "id": "6z7rvCG0RJWe"
      }
    },
    {
      "cell_type": "code",
      "source": [
        "import splitfolders\n",
        "\n",
        "# Define the path to your data folders on Google Drive\n",
        "input_folder = \"/content/drive/MyDrive/Datasets/lung_cancer_dataset\"  # Update this with your actual folder path\n",
        "output_folder = \"/content/drive/MyDrive/Datasets/d_lung_cancer_datatset\"  # Update this with your desired output folder path\n",
        "\n",
        "# Define the split ratios\n",
        "split_ratios = (0.6, 0.2, 0.2)  # Train, validation, test\n",
        "\n",
        "# Use splitfolders to perform the data split\n",
        "splitfolders.ratio(input_folder, output=output_folder, seed=42, ratio=split_ratios, group_prefix=None)\n",
        "\n",
        "print(\"Data splitting complete.\")"
      ],
      "metadata": {
        "colab": {
          "base_uri": "https://localhost:8080/"
        },
        "id": "Q5QrHUDIQn-F",
        "outputId": "79e53910-0a2c-4835-fc2f-d8d8b60c123b"
      },
      "execution_count": null,
      "outputs": [
        {
          "output_type": "stream",
          "name": "stderr",
          "text": [
            "Copying files: 534 files [03:44,  2.38 files/s]"
          ]
        },
        {
          "output_type": "stream",
          "name": "stdout",
          "text": [
            "Data splitting complete.\n"
          ]
        },
        {
          "output_type": "stream",
          "name": "stderr",
          "text": [
            "\n"
          ]
        }
      ]
    },
    {
      "cell_type": "code",
      "source": [
        "len(os.listdir(\"/content/drive/MyDrive/Datasets/d_lung_cancer_datatset/train/negative\"))"
      ],
      "metadata": {
        "colab": {
          "base_uri": "https://localhost:8080/"
        },
        "id": "eDRC97CPR15P",
        "outputId": "45f9c855-0c53-4118-be8d-e4eb94b11e43"
      },
      "execution_count": null,
      "outputs": [
        {
          "output_type": "execute_result",
          "data": {
            "text/plain": [
              "180"
            ]
          },
          "metadata": {},
          "execution_count": 23
        }
      ]
    },
    {
      "cell_type": "code",
      "source": [
        "print('total training +ive images:'              , len(os.listdir('/content/drive/MyDrive/Datasets/d_lung_cancer_datatset/train/positive')))\n",
        "print('total training -ive images:'              , len(os.listdir('/content/drive/MyDrive/Datasets/d_lung_cancer_datatset/train/negative')))\n",
        "print('\\n')\n",
        "\n",
        "print('total validation +ive images:'            , len(os.listdir('/content/drive/MyDrive/Datasets/d_lung_cancer_datatset/val/positive')))\n",
        "print('total validation -ive images:'            , len(os.listdir('/content/drive/MyDrive/Datasets/d_lung_cancer_datatset/val/negative')))\n",
        "print('\\n')\n",
        "\n",
        "print('total test +ive images:'                  , len(os.listdir('/content/drive/MyDrive/Datasets/d_lung_cancer_datatset/test/positive')))\n",
        "print('total test -ive images:'                  , len(os.listdir('/content/drive/MyDrive/Datasets/d_lung_cancer_datatset/test/negative')))\n"
      ],
      "metadata": {
        "colab": {
          "base_uri": "https://localhost:8080/"
        },
        "id": "xZV-kwLmUxUw",
        "outputId": "153587f1-a2bb-4121-8390-5ae87dc6ac55"
      },
      "execution_count": null,
      "outputs": [
        {
          "output_type": "stream",
          "name": "stdout",
          "text": [
            "total training +ive images: 140\n",
            "total training -ive images: 180\n",
            "\n",
            "\n",
            "total validation +ive images: 46\n",
            "total validation -ive images: 61\n",
            "\n",
            "\n",
            "total test +ive images: 48\n",
            "total test -ive images: 48\n"
          ]
        }
      ]
    },
    {
      "cell_type": "markdown",
      "source": [
        "### Data preprocessing - Without Data Augmentation\n",
        "\n",
        "All of the following things are handled by **ImageDataGenerator** from Keras:\n",
        "- Reading the picture files.\n",
        "- Decoding the JPEG content to RGB grids of pixels.\n",
        "- Converting these into floating-point tensors.\n",
        "- Rescaling the pixel values (between 0 and 255) to the [0, 1] interval (as we know, neural networks prefer to deal with small input values)."
      ],
      "metadata": {
        "id": "9ejp7IGacl9H"
      }
    },
    {
      "cell_type": "code",
      "source": [
        "# from tensorflow.keras.preprocessing.image import ImageDataGenerator\n",
        "# ImageDataGenerator: specially designed for image data\n",
        "\n",
        "train_dir = \"/content/drive/MyDrive/Datasets/d_lung_cancer_datatset/train\"\n",
        "validation_dir = \"/content/drive/MyDrive/Datasets/d_lung_cancer_datatset/val\"\n",
        "test_dir = \"/content/drive/MyDrive/Datasets/d_lung_cancer_datatset/test\"\n",
        "\n",
        "gen = ImageDataGenerator(rescale=1./255)\n",
        "\n",
        "\n",
        "train_generator = gen.flow_from_directory(\n",
        "                                          train_dir,\n",
        "                                          target_size = (200,200),\n",
        "                                          batch_size = 15,\n",
        "                                          class_mode = 'binary')\n",
        "\n",
        "validation_generator = gen.flow_from_directory(validation_dir,\n",
        "                                               target_size = (200,200),\n",
        "                                               batch_size = 15,\n",
        "                                               class_mode = 'binary')\n",
        "\n",
        "test_generator = gen.flow_from_directory(test_dir,\n",
        "                                         target_size = (200,200),\n",
        "                                         batch_size = 15,\n",
        "                                         class_mode = 'binary')"
      ],
      "metadata": {
        "colab": {
          "base_uri": "https://localhost:8080/"
        },
        "id": "jc-XIjTibPuh",
        "outputId": "38da8000-c0f7-4661-ef7d-893063a4308d"
      },
      "execution_count": null,
      "outputs": [
        {
          "output_type": "stream",
          "name": "stdout",
          "text": [
            "Found 320 images belonging to 2 classes.\n",
            "Found 106 images belonging to 2 classes.\n",
            "Found 108 images belonging to 2 classes.\n"
          ]
        }
      ]
    },
    {
      "cell_type": "markdown",
      "source": [
        "# Instantiating a small convnet"
      ],
      "metadata": {
        "id": "yA4ENGFIsAqP"
      }
    },
    {
      "cell_type": "code",
      "source": [
        "# from tensorflow.keras import layers\n",
        "# from tensorflow.keras import models\n",
        "\n",
        "model = models.Sequential()\n",
        "\n",
        "# Convolutional base\n",
        "model.add(layers.Conv2D(32, (3,3), activation='relu', input_shape=(200,200, 3)))\n",
        "model.add(layers.MaxPooling2D((2,2)))\n",
        "\n",
        "model.add(layers.Conv2D(64, (3,3), activation='relu'))\n",
        "model.add(layers.MaxPooling2D((2,2)))\n",
        "\n",
        "model.add(layers.Conv2D(128, (3,3), activation='relu'))\n",
        "model.add(layers.MaxPooling2D((2,2)))\n",
        "\n",
        "model.add(layers.Conv2D(128, (3,3), activation='relu'))\n",
        "model.add(layers.MaxPooling2D((2,2)))\n",
        "\n",
        "# Classifier Base\n",
        "model.add(layers.Flatten())\n",
        "model.add(layers.Dense(512, activation='relu'))\n",
        "model.add(layers.Dense(1, activation='sigmoid'))\n",
        "\n",
        "model.summary()\n",
        "\n",
        "model.compile(loss = 'binary_crossentropy',\n",
        "              optimizer = optimizers.RMSprop(learning_rate=1e-4),\n",
        "              metrics = ['acc'])"
      ],
      "metadata": {
        "colab": {
          "base_uri": "https://localhost:8080/"
        },
        "id": "HnetePLWfshN",
        "outputId": "ad921444-1e4f-4085-ee01-6ad30a4d4aa4"
      },
      "execution_count": null,
      "outputs": [
        {
          "output_type": "stream",
          "name": "stdout",
          "text": [
            "Model: \"sequential\"\n",
            "_________________________________________________________________\n",
            " Layer (type)                Output Shape              Param #   \n",
            "=================================================================\n",
            " conv2d (Conv2D)             (None, 198, 198, 32)      896       \n",
            "                                                                 \n",
            " max_pooling2d (MaxPooling2  (None, 99, 99, 32)        0         \n",
            " D)                                                              \n",
            "                                                                 \n",
            " conv2d_1 (Conv2D)           (None, 97, 97, 64)        18496     \n",
            "                                                                 \n",
            " max_pooling2d_1 (MaxPoolin  (None, 48, 48, 64)        0         \n",
            " g2D)                                                            \n",
            "                                                                 \n",
            " conv2d_2 (Conv2D)           (None, 46, 46, 128)       73856     \n",
            "                                                                 \n",
            " max_pooling2d_2 (MaxPoolin  (None, 23, 23, 128)       0         \n",
            " g2D)                                                            \n",
            "                                                                 \n",
            " conv2d_3 (Conv2D)           (None, 21, 21, 128)       147584    \n",
            "                                                                 \n",
            " max_pooling2d_3 (MaxPoolin  (None, 10, 10, 128)       0         \n",
            " g2D)                                                            \n",
            "                                                                 \n",
            " flatten (Flatten)           (None, 12800)             0         \n",
            "                                                                 \n",
            " dense (Dense)               (None, 512)               6554112   \n",
            "                                                                 \n",
            " dense_1 (Dense)             (None, 1)                 513       \n",
            "                                                                 \n",
            "=================================================================\n",
            "Total params: 6795457 (25.92 MB)\n",
            "Trainable params: 6795457 (25.92 MB)\n",
            "Non-trainable params: 0 (0.00 Byte)\n",
            "_________________________________________________________________\n"
          ]
        }
      ]
    },
    {
      "cell_type": "code",
      "source": [],
      "metadata": {
        "id": "cIViPD_VVk_c"
      },
      "execution_count": null,
      "outputs": []
    },
    {
      "cell_type": "markdown",
      "source": [
        "### Setting up call backs"
      ],
      "metadata": {
        "id": "KO0-zW7Gx9fs"
      }
    },
    {
      "cell_type": "code",
      "source": [
        "# creating the folder 'models'\n",
        "# in this folder we'll save the weights of our model after each epoch\n",
        "\n",
        "models  =  '/content/models'\n",
        "os.mkdir(models)\n"
      ],
      "metadata": {
        "id": "uS7UXbQ5VmHz"
      },
      "execution_count": null,
      "outputs": []
    },
    {
      "cell_type": "code",
      "source": [
        "# import tensorflow as tf\n",
        "# from tensorflow.keras import callbacks\n",
        "\n",
        "# The sets-of-weights at d/f epochs will have d/f names\n",
        "checkpoint_path = '/content/models/cp-{epoch:04d}.ckpt'\n",
        "\n",
        "# converting it into a directory\n",
        "checkpoint_dir  = os.path.dirname(checkpoint_path)\n",
        "\n",
        "cp_callback = callbacks.ModelCheckpoint(checkpoint_path, verbose = 1, save_weights_only = True)\n",
        "\n",
        "# For details and much more, see this official video from tensorflow\n",
        "# https://www.youtube.com/watch?v=HxtBIwfy0kM\n"
      ],
      "metadata": {
        "id": "4aS_4Y0lyC36"
      },
      "execution_count": null,
      "outputs": []
    },
    {
      "cell_type": "code",
      "source": [
        "history = model.fit(train_generator,\n",
        "                    epochs            =  30,\n",
        "                    validation_data   =  validation_generator,\n",
        "                    callbacks         =  cp_callback\n",
        "                  )"
      ],
      "metadata": {
        "colab": {
          "base_uri": "https://localhost:8080/"
        },
        "id": "RXiL-3X-539I",
        "outputId": "0bd834c4-1816-433f-d290-18cc3d7249d5"
      },
      "execution_count": null,
      "outputs": [
        {
          "output_type": "stream",
          "name": "stdout",
          "text": [
            "Epoch 1/30\n",
            "22/22 [==============================] - ETA: 0s - loss: 0.6874 - acc: 0.5719\n",
            "Epoch 1: saving model to /content/models/cp-0001.ckpt\n",
            "22/22 [==============================] - 178s 8s/step - loss: 0.6874 - acc: 0.5719 - val_loss: 0.6877 - val_acc: 0.5660\n",
            "Epoch 2/30\n",
            "22/22 [==============================] - ETA: 0s - loss: 0.6665 - acc: 0.6219\n",
            "Epoch 2: saving model to /content/models/cp-0002.ckpt\n",
            "22/22 [==============================] - 5s 214ms/step - loss: 0.6665 - acc: 0.6219 - val_loss: 0.6328 - val_acc: 0.5660\n",
            "Epoch 3/30\n",
            "22/22 [==============================] - ETA: 0s - loss: 0.5999 - acc: 0.7094\n",
            "Epoch 3: saving model to /content/models/cp-0003.ckpt\n",
            "22/22 [==============================] - 6s 259ms/step - loss: 0.5999 - acc: 0.7094 - val_loss: 0.5414 - val_acc: 0.8019\n",
            "Epoch 4/30\n",
            "22/22 [==============================] - ETA: 0s - loss: 0.5266 - acc: 0.7563\n",
            "Epoch 4: saving model to /content/models/cp-0004.ckpt\n",
            "22/22 [==============================] - 5s 209ms/step - loss: 0.5266 - acc: 0.7563 - val_loss: 0.4491 - val_acc: 0.8113\n",
            "Epoch 5/30\n",
            "22/22 [==============================] - ETA: 0s - loss: 0.4239 - acc: 0.8313\n",
            "Epoch 5: saving model to /content/models/cp-0005.ckpt\n",
            "22/22 [==============================] - 6s 286ms/step - loss: 0.4239 - acc: 0.8313 - val_loss: 0.3908 - val_acc: 0.8208\n",
            "Epoch 6/30\n",
            "22/22 [==============================] - ETA: 0s - loss: 0.3508 - acc: 0.8625\n",
            "Epoch 6: saving model to /content/models/cp-0006.ckpt\n",
            "22/22 [==============================] - 5s 209ms/step - loss: 0.3508 - acc: 0.8625 - val_loss: 0.3771 - val_acc: 0.8113\n",
            "Epoch 7/30\n",
            "22/22 [==============================] - ETA: 0s - loss: 0.3281 - acc: 0.8625\n",
            "Epoch 7: saving model to /content/models/cp-0007.ckpt\n",
            "22/22 [==============================] - 5s 209ms/step - loss: 0.3281 - acc: 0.8625 - val_loss: 0.3811 - val_acc: 0.8208\n",
            "Epoch 8/30\n",
            "22/22 [==============================] - ETA: 0s - loss: 0.2848 - acc: 0.8906\n",
            "Epoch 8: saving model to /content/models/cp-0008.ckpt\n",
            "22/22 [==============================] - 6s 270ms/step - loss: 0.2848 - acc: 0.8906 - val_loss: 0.4605 - val_acc: 0.7925\n",
            "Epoch 9/30\n",
            "22/22 [==============================] - ETA: 0s - loss: 0.2628 - acc: 0.9094\n",
            "Epoch 9: saving model to /content/models/cp-0009.ckpt\n",
            "22/22 [==============================] - 5s 219ms/step - loss: 0.2628 - acc: 0.9094 - val_loss: 0.4716 - val_acc: 0.7925\n",
            "Epoch 10/30\n",
            "22/22 [==============================] - ETA: 0s - loss: 0.2358 - acc: 0.9031\n",
            "Epoch 10: saving model to /content/models/cp-0010.ckpt\n",
            "22/22 [==============================] - 6s 278ms/step - loss: 0.2358 - acc: 0.9031 - val_loss: 0.4157 - val_acc: 0.8302\n",
            "Epoch 11/30\n",
            "22/22 [==============================] - ETA: 0s - loss: 0.2116 - acc: 0.9062\n",
            "Epoch 11: saving model to /content/models/cp-0011.ckpt\n",
            "22/22 [==============================] - 5s 217ms/step - loss: 0.2116 - acc: 0.9062 - val_loss: 0.4026 - val_acc: 0.8208\n",
            "Epoch 12/30\n",
            "22/22 [==============================] - ETA: 0s - loss: 0.2093 - acc: 0.9125\n",
            "Epoch 12: saving model to /content/models/cp-0012.ckpt\n",
            "22/22 [==============================] - 5s 220ms/step - loss: 0.2093 - acc: 0.9125 - val_loss: 0.4020 - val_acc: 0.8208\n",
            "Epoch 13/30\n",
            "22/22 [==============================] - ETA: 0s - loss: 0.1970 - acc: 0.9312\n",
            "Epoch 13: saving model to /content/models/cp-0013.ckpt\n",
            "22/22 [==============================] - 6s 272ms/step - loss: 0.1970 - acc: 0.9312 - val_loss: 0.4052 - val_acc: 0.8302\n",
            "Epoch 14/30\n",
            "22/22 [==============================] - ETA: 0s - loss: 0.1788 - acc: 0.9406\n",
            "Epoch 14: saving model to /content/models/cp-0014.ckpt\n",
            "22/22 [==============================] - 5s 207ms/step - loss: 0.1788 - acc: 0.9406 - val_loss: 0.4392 - val_acc: 0.8396\n",
            "Epoch 15/30\n",
            "22/22 [==============================] - ETA: 0s - loss: 0.1663 - acc: 0.9312\n",
            "Epoch 15: saving model to /content/models/cp-0015.ckpt\n",
            "22/22 [==============================] - 6s 287ms/step - loss: 0.1663 - acc: 0.9312 - val_loss: 0.4322 - val_acc: 0.8208\n",
            "Epoch 16/30\n",
            "22/22 [==============================] - ETA: 0s - loss: 0.1556 - acc: 0.9531\n",
            "Epoch 16: saving model to /content/models/cp-0016.ckpt\n",
            "22/22 [==============================] - 5s 214ms/step - loss: 0.1556 - acc: 0.9531 - val_loss: 0.4383 - val_acc: 0.8113\n",
            "Epoch 17/30\n",
            "22/22 [==============================] - ETA: 0s - loss: 0.1370 - acc: 0.9469\n",
            "Epoch 17: saving model to /content/models/cp-0017.ckpt\n",
            "22/22 [==============================] - 6s 272ms/step - loss: 0.1370 - acc: 0.9469 - val_loss: 0.4586 - val_acc: 0.8302\n",
            "Epoch 18/30\n",
            "22/22 [==============================] - ETA: 0s - loss: 0.1145 - acc: 0.9625\n",
            "Epoch 18: saving model to /content/models/cp-0018.ckpt\n",
            "22/22 [==============================] - 5s 219ms/step - loss: 0.1145 - acc: 0.9625 - val_loss: 0.4894 - val_acc: 0.8208\n",
            "Epoch 19/30\n",
            "22/22 [==============================] - ETA: 0s - loss: 0.1083 - acc: 0.9625\n",
            "Epoch 19: saving model to /content/models/cp-0019.ckpt\n",
            "22/22 [==============================] - 6s 278ms/step - loss: 0.1083 - acc: 0.9625 - val_loss: 0.6200 - val_acc: 0.8396\n",
            "Epoch 20/30\n",
            "22/22 [==============================] - ETA: 0s - loss: 0.1265 - acc: 0.9563\n",
            "Epoch 20: saving model to /content/models/cp-0020.ckpt\n",
            "22/22 [==============================] - 5s 217ms/step - loss: 0.1265 - acc: 0.9563 - val_loss: 0.5253 - val_acc: 0.8113\n",
            "Epoch 21/30\n",
            "22/22 [==============================] - ETA: 0s - loss: 0.0918 - acc: 0.9719\n",
            "Epoch 21: saving model to /content/models/cp-0021.ckpt\n",
            "22/22 [==============================] - 5s 220ms/step - loss: 0.0918 - acc: 0.9719 - val_loss: 0.5208 - val_acc: 0.8113\n",
            "Epoch 22/30\n",
            "22/22 [==============================] - ETA: 0s - loss: 0.0959 - acc: 0.9656\n",
            "Epoch 22: saving model to /content/models/cp-0022.ckpt\n",
            "22/22 [==============================] - 5s 246ms/step - loss: 0.0959 - acc: 0.9656 - val_loss: 0.4723 - val_acc: 0.8302\n",
            "Epoch 23/30\n",
            "22/22 [==============================] - ETA: 0s - loss: 0.0649 - acc: 0.9750\n",
            "Epoch 23: saving model to /content/models/cp-0023.ckpt\n",
            "22/22 [==============================] - 7s 301ms/step - loss: 0.0649 - acc: 0.9750 - val_loss: 0.5646 - val_acc: 0.8113\n",
            "Epoch 24/30\n",
            "22/22 [==============================] - ETA: 0s - loss: 0.0749 - acc: 0.9750\n",
            "Epoch 24: saving model to /content/models/cp-0024.ckpt\n",
            "22/22 [==============================] - 5s 209ms/step - loss: 0.0749 - acc: 0.9750 - val_loss: 0.5150 - val_acc: 0.8396\n",
            "Epoch 25/30\n",
            "22/22 [==============================] - ETA: 0s - loss: 0.0651 - acc: 0.9812\n",
            "Epoch 25: saving model to /content/models/cp-0025.ckpt\n",
            "22/22 [==============================] - 5s 218ms/step - loss: 0.0651 - acc: 0.9812 - val_loss: 0.5071 - val_acc: 0.8208\n",
            "Epoch 26/30\n",
            "22/22 [==============================] - ETA: 0s - loss: 0.0546 - acc: 0.9844\n",
            "Epoch 26: saving model to /content/models/cp-0026.ckpt\n",
            "22/22 [==============================] - 6s 282ms/step - loss: 0.0546 - acc: 0.9844 - val_loss: 0.5400 - val_acc: 0.8302\n",
            "Epoch 27/30\n",
            "22/22 [==============================] - ETA: 0s - loss: 0.0454 - acc: 0.9875\n",
            "Epoch 27: saving model to /content/models/cp-0027.ckpt\n",
            "22/22 [==============================] - 4s 206ms/step - loss: 0.0454 - acc: 0.9875 - val_loss: 0.5614 - val_acc: 0.8113\n",
            "Epoch 28/30\n",
            "22/22 [==============================] - ETA: 0s - loss: 0.0447 - acc: 0.9875\n",
            "Epoch 28: saving model to /content/models/cp-0028.ckpt\n",
            "22/22 [==============================] - 6s 282ms/step - loss: 0.0447 - acc: 0.9875 - val_loss: 0.5477 - val_acc: 0.8491\n",
            "Epoch 29/30\n",
            "22/22 [==============================] - ETA: 0s - loss: 0.0372 - acc: 0.9875\n",
            "Epoch 29: saving model to /content/models/cp-0029.ckpt\n",
            "22/22 [==============================] - 6s 272ms/step - loss: 0.0372 - acc: 0.9875 - val_loss: 0.6865 - val_acc: 0.8019\n",
            "Epoch 30/30\n",
            "22/22 [==============================] - ETA: 0s - loss: 0.0340 - acc: 0.9875\n",
            "Epoch 30: saving model to /content/models/cp-0030.ckpt\n",
            "22/22 [==============================] - 6s 264ms/step - loss: 0.0340 - acc: 0.9875 - val_loss: 0.6089 - val_acc: 0.8491\n"
          ]
        }
      ]
    },
    {
      "cell_type": "code",
      "source": [
        "model.save(\"lung_cancer_simple.h5\")"
      ],
      "metadata": {
        "id": "AePZiOMj5_MA",
        "colab": {
          "base_uri": "https://localhost:8080/"
        },
        "outputId": "b4127811-24a6-44e5-da88-23a8df58c292"
      },
      "execution_count": null,
      "outputs": [
        {
          "output_type": "stream",
          "name": "stderr",
          "text": [
            "/usr/local/lib/python3.10/dist-packages/keras/src/engine/training.py:3000: UserWarning: You are saving your model as an HDF5 file via `model.save()`. This file format is considered legacy. We recommend using instead the native Keras format, e.g. `model.save('my_model.keras')`.\n",
            "  saving_api.save_model(\n"
          ]
        }
      ]
    },
    {
      "cell_type": "code",
      "source": [
        "# Copy the entire folder and its contents recursively\n",
        "\n",
        "source_folder       = '/content/models'\n",
        "destination_folder  = '/content/drive/MyDrive/google colab/lung cancer simple model cps'\n",
        "\n",
        "copy_folder_contents(source_folder, destination_folder)"
      ],
      "metadata": {
        "colab": {
          "base_uri": "https://localhost:8080/"
        },
        "id": "aVfoTCjNsAyc",
        "outputId": "ec4c1060-4521-4813-dc14-9d4ef745d265"
      },
      "execution_count": null,
      "outputs": [
        {
          "output_type": "stream",
          "name": "stdout",
          "text": [
            "Contents of '/content/models' copied to '/content/drive/MyDrive/google colab/lung cancer simple model cps' successfully.\n"
          ]
        }
      ]
    },
    {
      "cell_type": "code",
      "source": [
        "# Plotting the results\n",
        "plot_training_history(history)"
      ],
      "metadata": {
        "colab": {
          "base_uri": "https://localhost:8080/",
          "height": 887
        },
        "id": "IUYmlxp-sAmS",
        "outputId": "77a7cc6a-31bd-48b5-ef2b-f94992590a0b"
      },
      "execution_count": null,
      "outputs": [
        {
          "output_type": "display_data",
          "data": {
            "text/plain": [
              "<Figure size 640x480 with 1 Axes>"
            ],
            "image/png": "[encoded data removed]"
          },
          "metadata": {}
        },
        {
          "output_type": "display_data",
          "data": {
            "text/plain": [
              "<Figure size 640x480 with 1 Axes>"
            ],
            "image/png": "[encoded data removed]"
          },
          "metadata": {}
        }
      ]
    },
    {
      "cell_type": "code",
      "source": [
        "if __name__ == \"__main__\":\n",
        "    checkpoint_folder = \"/content/models\"\n",
        "\n",
        "    # Load your pre-built model here\n",
        "    model = load_model('/content/lung_cancer_simple.h5')  # Replace with the path to your model\n",
        "\n",
        "    # Replace these with your actual test and validation generators\n",
        "    test_generator = test_generator\n",
        "    validation_generator = validation_generator\n",
        "\n",
        "    results_df = evaluate_checkpoints(checkpoint_folder, model, test_generator, validation_generator)\n",
        "    results_df\n"
      ],
      "metadata": {
        "colab": {
          "base_uri": "https://localhost:8080/"
        },
        "id": "AG4UZ9JsQWx7",
        "outputId": "51c71bf1-60df-4df2-9dc6-a889bd4e36dd"
      },
      "execution_count": null,
      "outputs": [
        {
          "output_type": "stream",
          "name": "stdout",
          "text": [
            "8/8 [==============================] - 1s 157ms/step - loss: 0.5646 - acc: 0.8113\n",
            "8/8 [==============================] - 38s 5s/step - loss: 0.2981 - acc: 0.8796\n",
            "8/8 [==============================] - 1s 138ms/step - loss: 0.5477 - acc: 0.8491\n",
            "8/8 [==============================] - 1s 118ms/step - loss: 0.2307 - acc: 0.9259\n",
            "8/8 [==============================] - 1s 161ms/step - loss: 0.4026 - acc: 0.8208\n",
            "8/8 [==============================] - 1s 120ms/step - loss: 0.2377 - acc: 0.8889\n",
            "8/8 [==============================] - 1s 131ms/step - loss: 0.5400 - acc: 0.8302\n",
            "8/8 [==============================] - 1s 123ms/step - loss: 0.2430 - acc: 0.9444\n",
            "8/8 [==============================] - 2s 203ms/step - loss: 0.6328 - acc: 0.5660\n",
            "8/8 [==============================] - 1s 122ms/step - loss: 0.6237 - acc: 0.5556\n",
            "8/8 [==============================] - 1s 132ms/step - loss: 0.4491 - acc: 0.8113\n",
            "8/8 [==============================] - 1s 125ms/step - loss: 0.4075 - acc: 0.8611\n",
            "8/8 [==============================] - 1s 130ms/step - loss: 0.5150 - acc: 0.8396\n",
            "8/8 [==============================] - 1s 116ms/step - loss: 0.2173 - acc: 0.9167\n",
            "8/8 [==============================] - 1s 133ms/step - loss: 0.4894 - acc: 0.8208\n",
            "8/8 [==============================] - 1s 123ms/step - loss: 0.2248 - acc: 0.9167\n",
            "8/8 [==============================] - 1s 175ms/step - loss: 0.3908 - acc: 0.8208\n",
            "8/8 [==============================] - 1s 170ms/step - loss: 0.3297 - acc: 0.8611\n",
            "8/8 [==============================] - 1s 152ms/step - loss: 0.6877 - acc: 0.5660\n",
            "8/8 [==============================] - 1s 126ms/step - loss: 0.6884 - acc: 0.5556\n",
            "8/8 [==============================] - 1s 130ms/step - loss: 0.5071 - acc: 0.8208\n",
            "8/8 [==============================] - 1s 120ms/step - loss: 0.2548 - acc: 0.8981\n",
            "8/8 [==============================] - 1s 131ms/step - loss: 0.6089 - acc: 0.8491\n",
            "8/8 [==============================] - 1s 121ms/step - loss: 0.2722 - acc: 0.9352\n",
            "8/8 [==============================] - 1s 130ms/step - loss: 0.4052 - acc: 0.8302\n",
            "8/8 [==============================] - 3s 359ms/step - loss: 0.2618 - acc: 0.8889\n",
            "8/8 [==============================] - 1s 127ms/step - loss: 0.4383 - acc: 0.8113\n",
            "8/8 [==============================] - 1s 121ms/step - loss: 0.2163 - acc: 0.9259\n",
            "8/8 [==============================] - 1s 129ms/step - loss: 0.3771 - acc: 0.8113\n",
            "8/8 [==============================] - 1s 115ms/step - loss: 0.2914 - acc: 0.9074\n",
            "8/8 [==============================] - 1s 130ms/step - loss: 0.5208 - acc: 0.8113\n",
            "8/8 [==============================] - 1s 138ms/step - loss: 0.3028 - acc: 0.8704\n",
            "8/8 [==============================] - 2s 197ms/step - loss: 0.5614 - acc: 0.8113\n",
            "8/8 [==============================] - 1s 161ms/step - loss: 0.2701 - acc: 0.9167\n",
            "8/8 [==============================] - 1s 137ms/step - loss: 0.4723 - acc: 0.8302\n",
            "8/8 [==============================] - 1s 129ms/step - loss: 0.2299 - acc: 0.9259\n",
            "8/8 [==============================] - 1s 130ms/step - loss: 0.3811 - acc: 0.8208\n",
            "8/8 [==============================] - 1s 117ms/step - loss: 0.2849 - acc: 0.8704\n",
            "8/8 [==============================] - 1s 135ms/step - loss: 0.5253 - acc: 0.8113\n",
            "8/8 [==============================] - 1s 120ms/step - loss: 0.2941 - acc: 0.8796\n",
            "8/8 [==============================] - 1s 183ms/step - loss: 0.4716 - acc: 0.7925\n",
            "8/8 [==============================] - 1s 168ms/step - loss: 0.3349 - acc: 0.8241\n",
            "8/8 [==============================] - 1s 139ms/step - loss: 0.4322 - acc: 0.8208\n",
            "8/8 [==============================] - 1s 120ms/step - loss: 0.2112 - acc: 0.9167\n",
            "8/8 [==============================] - 1s 133ms/step - loss: 0.4586 - acc: 0.8302\n",
            "8/8 [==============================] - 1s 121ms/step - loss: 0.2266 - acc: 0.8889\n",
            "8/8 [==============================] - 1s 131ms/step - loss: 0.5414 - acc: 0.8019\n",
            "8/8 [==============================] - 1s 125ms/step - loss: 0.5136 - acc: 0.8611\n",
            "8/8 [==============================] - 1s 142ms/step - loss: 0.6200 - acc: 0.8396\n",
            "8/8 [==============================] - 1s 180ms/step - loss: 0.3036 - acc: 0.8889\n",
            "8/8 [==============================] - 2s 177ms/step - loss: 0.4157 - acc: 0.8302\n",
            "8/8 [==============================] - 1s 121ms/step - loss: 0.2581 - acc: 0.9167\n",
            "8/8 [==============================] - 1s 130ms/step - loss: 0.4605 - acc: 0.7925\n",
            "8/8 [==============================] - 1s 121ms/step - loss: 0.3505 - acc: 0.8241\n",
            "8/8 [==============================] - 1s 136ms/step - loss: 0.4020 - acc: 0.8208\n",
            "8/8 [==============================] - 1s 125ms/step - loss: 0.2294 - acc: 0.9074\n",
            "8/8 [==============================] - 1s 135ms/step - loss: 0.6865 - acc: 0.8019\n",
            "8/8 [==============================] - 1s 141ms/step - loss: 0.3521 - acc: 0.8796\n",
            "8/8 [==============================] - 2s 180ms/step - loss: 0.4392 - acc: 0.8396\n",
            "8/8 [==============================] - 2s 185ms/step - loss: 0.2384 - acc: 0.8796\n"
          ]
        }
      ]
    },
    {
      "cell_type": "code",
      "source": [
        "results_df.sort_values(by=\"Checkpoint\", ascending=True)"
      ],
      "metadata": {
        "colab": {
          "base_uri": "https://localhost:8080/",
          "height": 1000
        },
        "id": "s71Od_VgVHku",
        "outputId": "d1fc1fa6-c38b-4c40-fcda-ff7408b97f5a"
      },
      "execution_count": null,
      "outputs": [
        {
          "output_type": "execute_result",
          "data": {
            "text/plain": [
              "            Checkpoint  Validation Loss  Validation Accuracy  Test Loss  \\\n",
              "9   cp-0001.ckpt.index         0.687711             0.566038   0.688370   \n",
              "4   cp-0002.ckpt.index         0.632819             0.566038   0.623732   \n",
              "23  cp-0003.ckpt.index         0.541449             0.801887   0.513610   \n",
              "5   cp-0004.ckpt.index         0.449077             0.811321   0.407549   \n",
              "8   cp-0005.ckpt.index         0.390764             0.820755   0.329664   \n",
              "14  cp-0006.ckpt.index         0.377061             0.811321   0.291391   \n",
              "18  cp-0007.ckpt.index         0.381071             0.820755   0.284902   \n",
              "26  cp-0008.ckpt.index         0.460535             0.792453   0.350464   \n",
              "20  cp-0009.ckpt.index         0.471597             0.792453   0.334938   \n",
              "25  cp-0010.ckpt.index         0.415748             0.830189   0.258126   \n",
              "2   cp-0011.ckpt.index         0.402559             0.820755   0.237720   \n",
              "27  cp-0012.ckpt.index         0.401999             0.820755   0.229356   \n",
              "12  cp-0013.ckpt.index         0.405156             0.830189   0.261798   \n",
              "29  cp-0014.ckpt.index         0.439218             0.839623   0.238385   \n",
              "21  cp-0015.ckpt.index         0.432190             0.820755   0.211194   \n",
              "13  cp-0016.ckpt.index         0.438316             0.811321   0.216312   \n",
              "22  cp-0017.ckpt.index         0.458566             0.830189   0.226575   \n",
              "7   cp-0018.ckpt.index         0.489355             0.820755   0.224787   \n",
              "24  cp-0019.ckpt.index         0.620011             0.839623   0.303554   \n",
              "19  cp-0020.ckpt.index         0.525312             0.811321   0.294149   \n",
              "15  cp-0021.ckpt.index         0.520799             0.811321   0.302848   \n",
              "17  cp-0022.ckpt.index         0.472287             0.830189   0.229865   \n",
              "0   cp-0023.ckpt.index         0.564617             0.811321   0.298131   \n",
              "6   cp-0024.ckpt.index         0.515036             0.839623   0.217324   \n",
              "10  cp-0025.ckpt.index         0.507106             0.820755   0.254785   \n",
              "3   cp-0026.ckpt.index         0.540015             0.830189   0.243007   \n",
              "16  cp-0027.ckpt.index         0.561439             0.811321   0.270118   \n",
              "1   cp-0028.ckpt.index         0.547742             0.849057   0.230683   \n",
              "28  cp-0029.ckpt.index         0.686467             0.801887   0.352067   \n",
              "11  cp-0030.ckpt.index         0.608932             0.849057   0.272209   \n",
              "\n",
              "    Test Accuracy  \n",
              "9        0.555556  \n",
              "4        0.555556  \n",
              "23       0.861111  \n",
              "5        0.861111  \n",
              "8        0.861111  \n",
              "14       0.907407  \n",
              "18       0.870370  \n",
              "26       0.824074  \n",
              "20       0.824074  \n",
              "25       0.916667  \n",
              "2        0.888889  \n",
              "27       0.907407  \n",
              "12       0.888889  \n",
              "29       0.879630  \n",
              "21       0.916667  \n",
              "13       0.925926  \n",
              "22       0.888889  \n",
              "7        0.916667  \n",
              "24       0.888889  \n",
              "19       0.879630  \n",
              "15       0.870370  \n",
              "17       0.925926  \n",
              "0        0.879630  \n",
              "6        0.916667  \n",
              "10       0.898148  \n",
              "3        0.944444  \n",
              "16       0.916667  \n",
              "1        0.925926  \n",
              "28       0.879630  \n",
              "11       0.935185  "
            ],
            "text/html": [
              "\n",
              "  <div id=\"df-baba9f91-9b14-4ed5-b36d-cb5d9e60af27\" class=\"colab-df-container\">\n",
              "    <div>\n",
              "<style scoped>\n",
              "    .dataframe tbody tr th:only-of-type {\n",
              "        vertical-align: middle;\n",
              "    }\n",
              "\n",
              "    .dataframe tbody tr th {\n",
              "        vertical-align: top;\n",
              "    }\n",
              "\n",
              "    .dataframe thead th {\n",
              "        text-align: right;\n",
              "    }\n",
              "</style>\n",
              "<table border=\"1\" class=\"dataframe\">\n",
              "  <thead>\n",
              "    <tr style=\"text-align: right;\">\n",
              "      <th></th>\n",
              "      <th>Checkpoint</th>\n",
              "      <th>Validation Loss</th>\n",
              "      <th>Validation Accuracy</th>\n",
              "      <th>Test Loss</th>\n",
              "      <th>Test Accuracy</th>\n",
              "    </tr>\n",
              "  </thead>\n",
              "  <tbody>\n",
              "    <tr>\n",
              "      <th>9</th>\n",
              "      <td>cp-0001.ckpt.index</td>\n",
              "      <td>0.687711</td>\n",
              "      <td>0.566038</td>\n",
              "      <td>0.688370</td>\n",
              "      <td>0.555556</td>\n",
              "    </tr>\n",
              "    <tr>\n",
              "      <th>4</th>\n",
              "      <td>cp-0002.ckpt.index</td>\n",
              "      <td>0.632819</td>\n",
              "      <td>0.566038</td>\n",
              "      <td>0.623732</td>\n",
              "      <td>0.555556</td>\n",
              "    </tr>\n",
              "    <tr>\n",
              "      <th>23</th>\n",
              "      <td>cp-0003.ckpt.index</td>\n",
              "      <td>0.541449</td>\n",
              "      <td>0.801887</td>\n",
              "      <td>0.513610</td>\n",
              "      <td>0.861111</td>\n",
              "    </tr>\n",
              "    <tr>\n",
              "      <th>5</th>\n",
              "      <td>cp-0004.ckpt.index</td>\n",
              "      <td>0.449077</td>\n",
              "      <td>0.811321</td>\n",
              "      <td>0.407549</td>\n",
              "      <td>0.861111</td>\n",
              "    </tr>\n",
              "    <tr>\n",
              "      <th>8</th>\n",
              "      <td>cp-0005.ckpt.index</td>\n",
              "      <td>0.390764</td>\n",
              "      <td>0.820755</td>\n",
              "      <td>0.329664</td>\n",
              "      <td>0.861111</td>\n",
              "    </tr>\n",
              "    <tr>\n",
              "      <th>14</th>\n",
              "      <td>cp-0006.ckpt.index</td>\n",
              "      <td>0.377061</td>\n",
              "      <td>0.811321</td>\n",
              "      <td>0.291391</td>\n",
              "      <td>0.907407</td>\n",
              "    </tr>\n",
              "    <tr>\n",
              "      <th>18</th>\n",
              "      <td>cp-0007.ckpt.index</td>\n",
              "      <td>0.381071</td>\n",
              "      <td>0.820755</td>\n",
              "      <td>0.284902</td>\n",
              "      <td>0.870370</td>\n",
              "    </tr>\n",
              "    <tr>\n",
              "      <th>26</th>\n",
              "      <td>cp-0008.ckpt.index</td>\n",
              "      <td>0.460535</td>\n",
              "      <td>0.792453</td>\n",
              "      <td>0.350464</td>\n",
              "      <td>0.824074</td>\n",
              "    </tr>\n",
              "    <tr>\n",
              "      <th>20</th>\n",
              "      <td>cp-0009.ckpt.index</td>\n",
              "      <td>0.471597</td>\n",
              "      <td>0.792453</td>\n",
              "      <td>0.334938</td>\n",
              "      <td>0.824074</td>\n",
              "    </tr>\n",
              "    <tr>\n",
              "      <th>25</th>\n",
              "      <td>cp-0010.ckpt.index</td>\n",
              "      <td>0.415748</td>\n",
              "      <td>0.830189</td>\n",
              "      <td>0.258126</td>\n",
              "      <td>0.916667</td>\n",
              "    </tr>\n",
              "    <tr>\n",
              "      <th>2</th>\n",
              "      <td>cp-0011.ckpt.index</td>\n",
              "      <td>0.402559</td>\n",
              "      <td>0.820755</td>\n",
              "      <td>0.237720</td>\n",
              "      <td>0.888889</td>\n",
              "    </tr>\n",
              "    <tr>\n",
              "      <th>27</th>\n",
              "      <td>cp-0012.ckpt.index</td>\n",
              "      <td>0.401999</td>\n",
              "      <td>0.820755</td>\n",
              "      <td>0.229356</td>\n",
              "      <td>0.907407</td>\n",
              "    </tr>\n",
              "    <tr>\n",
              "      <th>12</th>\n",
              "      <td>cp-0013.ckpt.index</td>\n",
              "      <td>0.405156</td>\n",
              "      <td>0.830189</td>\n",
              "      <td>0.261798</td>\n",
              "      <td>0.888889</td>\n",
              "    </tr>\n",
              "    <tr>\n",
              "      <th>29</th>\n",
              "      <td>cp-0014.ckpt.index</td>\n",
              "      <td>0.439218</td>\n",
              "      <td>0.839623</td>\n",
              "      <td>0.238385</td>\n",
              "      <td>0.879630</td>\n",
              "    </tr>\n",
              "    <tr>\n",
              "      <th>21</th>\n",
              "      <td>cp-0015.ckpt.index</td>\n",
              "      <td>0.432190</td>\n",
              "      <td>0.820755</td>\n",
              "      <td>0.211194</td>\n",
              "      <td>0.916667</td>\n",
              "    </tr>\n",
              "    <tr>\n",
              "      <th>13</th>\n",
              "      <td>cp-0016.ckpt.index</td>\n",
              "      <td>0.438316</td>\n",
              "      <td>0.811321</td>\n",
              "      <td>0.216312</td>\n",
              "      <td>0.925926</td>\n",
              "    </tr>\n",
              "    <tr>\n",
              "      <th>22</th>\n",
              "      <td>cp-0017.ckpt.index</td>\n",
              "      <td>0.458566</td>\n",
              "      <td>0.830189</td>\n",
              "      <td>0.226575</td>\n",
              "      <td>0.888889</td>\n",
              "    </tr>\n",
              "    <tr>\n",
              "      <th>7</th>\n",
              "      <td>cp-0018.ckpt.index</td>\n",
              "      <td>0.489355</td>\n",
              "      <td>0.820755</td>\n",
              "      <td>0.224787</td>\n",
              "      <td>0.916667</td>\n",
              "    </tr>\n",
              "    <tr>\n",
              "      <th>24</th>\n",
              "      <td>cp-0019.ckpt.index</td>\n",
              "      <td>0.620011</td>\n",
              "      <td>0.839623</td>\n",
              "      <td>0.303554</td>\n",
              "      <td>0.888889</td>\n",
              "    </tr>\n",
              "    <tr>\n",
              "      <th>19</th>\n",
              "      <td>cp-0020.ckpt.index</td>\n",
              "      <td>0.525312</td>\n",
              "      <td>0.811321</td>\n",
              "      <td>0.294149</td>\n",
              "      <td>0.879630</td>\n",
              "    </tr>\n",
              "    <tr>\n",
              "      <th>15</th>\n",
              "      <td>cp-0021.ckpt.index</td>\n",
              "      <td>0.520799</td>\n",
              "      <td>0.811321</td>\n",
              "      <td>0.302848</td>\n",
              "      <td>0.870370</td>\n",
              "    </tr>\n",
              "    <tr>\n",
              "      <th>17</th>\n",
              "      <td>cp-0022.ckpt.index</td>\n",
              "      <td>0.472287</td>\n",
              "      <td>0.830189</td>\n",
              "      <td>0.229865</td>\n",
              "      <td>0.925926</td>\n",
              "    </tr>\n",
              "    <tr>\n",
              "      <th>0</th>\n",
              "      <td>cp-0023.ckpt.index</td>\n",
              "      <td>0.564617</td>\n",
              "      <td>0.811321</td>\n",
              "      <td>0.298131</td>\n",
              "      <td>0.879630</td>\n",
              "    </tr>\n",
              "    <tr>\n",
              "      <th>6</th>\n",
              "      <td>cp-0024.ckpt.index</td>\n",
              "      <td>0.515036</td>\n",
              "      <td>0.839623</td>\n",
              "      <td>0.217324</td>\n",
              "      <td>0.916667</td>\n",
              "    </tr>\n",
              "    <tr>\n",
              "      <th>10</th>\n",
              "      <td>cp-0025.ckpt.index</td>\n",
              "      <td>0.507106</td>\n",
              "      <td>0.820755</td>\n",
              "      <td>0.254785</td>\n",
              "      <td>0.898148</td>\n",
              "    </tr>\n",
              "    <tr>\n",
              "      <th>3</th>\n",
              "      <td>cp-0026.ckpt.index</td>\n",
              "      <td>0.540015</td>\n",
              "      <td>0.830189</td>\n",
              "      <td>0.243007</td>\n",
              "      <td>0.944444</td>\n",
              "    </tr>\n",
              "    <tr>\n",
              "      <th>16</th>\n",
              "      <td>cp-0027.ckpt.index</td>\n",
              "      <td>0.561439</td>\n",
              "      <td>0.811321</td>\n",
              "      <td>0.270118</td>\n",
              "      <td>0.916667</td>\n",
              "    </tr>\n",
              "    <tr>\n",
              "      <th>1</th>\n",
              "      <td>cp-0028.ckpt.index</td>\n",
              "      <td>0.547742</td>\n",
              "      <td>0.849057</td>\n",
              "      <td>0.230683</td>\n",
              "      <td>0.925926</td>\n",
              "    </tr>\n",
              "    <tr>\n",
              "      <th>28</th>\n",
              "      <td>cp-0029.ckpt.index</td>\n",
              "      <td>0.686467</td>\n",
              "      <td>0.801887</td>\n",
              "      <td>0.352067</td>\n",
              "      <td>0.879630</td>\n",
              "    </tr>\n",
              "    <tr>\n",
              "      <th>11</th>\n",
              "      <td>cp-0030.ckpt.index</td>\n",
              "      <td>0.608932</td>\n",
              "      <td>0.849057</td>\n",
              "      <td>0.272209</td>\n",
              "      <td>0.935185</td>\n",
              "    </tr>\n",
              "  </tbody>\n",
              "</table>\n",
              "</div>\n",
              "    <div class=\"colab-df-buttons\">\n",
              "\n",
              "  <div class=\"colab-df-container\">\n",
              "    <button class=\"colab-df-convert\" onclick=\"convertToInteractive('df-baba9f91-9b14-4ed5-b36d-cb5d9e60af27')\"\n",
              "            title=\"Convert this dataframe to an interactive table.\"\n",
              "            style=\"display:none;\">\n",
              "\n",
              "  <svg xmlns=\"http://www.w3.org/2000/svg\" height=\"24px\" viewBox=\"0 -960 960 960\">\n",
              "    <path d=\"M120-120v-720h720v720H120Zm60-500h600v-160H180v160Zm220 220h160v-160H400v160Zm0 220h160v-160H400v160ZM180-400h160v-160H180v160Zm440 0h160v-160H620v160ZM180-180h160v-160H180v160Zm440 0h160v-160H620v160Z\"/>\n",
              "  </svg>\n",
              "    </button>\n",
              "\n",
              "  <style>\n",
              "    .colab-df-container {\n",
              "      display:flex;\n",
              "      gap: 12px;\n",
              "    }\n",
              "\n",
              "    .colab-df-convert {\n",
              "      background-color: #E8F0FE;\n",
              "      border: none;\n",
              "      border-radius: 50%;\n",
              "      cursor: pointer;\n",
              "      display: none;\n",
              "      fill: #1967D2;\n",
              "      height: 32px;\n",
              "      padding: 0 0 0 0;\n",
              "      width: 32px;\n",
              "    }\n",
              "\n",
              "    .colab-df-convert:hover {\n",
              "      background-color: #E2EBFA;\n",
              "      box-shadow: 0px 1px 2px rgba(60, 64, 67, 0.3), 0px 1px 3px 1px rgba(60, 64, 67, 0.15);\n",
              "      fill: #174EA6;\n",
              "    }\n",
              "\n",
              "    .colab-df-buttons div {\n",
              "      margin-bottom: 4px;\n",
              "    }\n",
              "\n",
              "    [theme=dark] .colab-df-convert {\n",
              "      background-color: #3B4455;\n",
              "      fill: #D2E3FC;\n",
              "    }\n",
              "\n",
              "    [theme=dark] .colab-df-convert:hover {\n",
              "      background-color: #434B5C;\n",
              "      box-shadow: 0px 1px 3px 1px rgba(0, 0, 0, 0.15);\n",
              "      filter: drop-shadow(0px 1px 2px rgba(0, 0, 0, 0.3));\n",
              "      fill: #FFFFFF;\n",
              "    }\n",
              "  </style>\n",
              "\n",
              "    <script>\n",
              "      const buttonEl =\n",
              "        document.querySelector('#df-baba9f91-9b14-4ed5-b36d-cb5d9e60af27 button.colab-df-convert');\n",
              "      buttonEl.style.display =\n",
              "        google.colab.kernel.accessAllowed ? 'block' : 'none';\n",
              "\n",
              "      async function convertToInteractive(key) {\n",
              "        const element = document.querySelector('#df-baba9f91-9b14-4ed5-b36d-cb5d9e60af27');\n",
              "        const dataTable =\n",
              "          await google.colab.kernel.invokeFunction('convertToInteractive',\n",
              "                                                    [key], {});\n",
              "        if (!dataTable) return;\n",
              "\n",
              "        const docLinkHtml = 'Like what you see? Visit the ' +\n",
              "          '<a target=\"_blank\" href=https://colab.research.google.com/notebooks/data_table.ipynb>data table notebook</a>'\n",
              "          + ' to learn more about interactive tables.';\n",
              "        element.innerHTML = '';\n",
              "        dataTable['output_type'] = 'display_data';\n",
              "        await google.colab.output.renderOutput(dataTable, element);\n",
              "        const docLink = document.createElement('div');\n",
              "        docLink.innerHTML = docLinkHtml;\n",
              "        element.appendChild(docLink);\n",
              "      }\n",
              "    </script>\n",
              "  </div>\n",
              "\n",
              "\n",
              "<div id=\"df-19442d59-3b3f-4f02-a6c3-139adfc82e30\">\n",
              "  <button class=\"colab-df-quickchart\" onclick=\"quickchart('df-19442d59-3b3f-4f02-a6c3-139adfc82e30')\"\n",
              "            title=\"Suggest charts.\"\n",
              "            style=\"display:none;\">\n",
              "\n",
              "<svg xmlns=\"http://www.w3.org/2000/svg\" height=\"24px\"viewBox=\"0 0 24 24\"\n",
              "     width=\"24px\">\n",
              "    <g>\n",
              "        <path d=\"M19 3H5c-1.1 0-2 .9-2 2v14c0 1.1.9 2 2 2h14c1.1 0 2-.9 2-2V5c0-1.1-.9-2-2-2zM9 17H7v-7h2v7zm4 0h-2V7h2v10zm4 0h-2v-4h2v4z\"/>\n",
              "    </g>\n",
              "</svg>\n",
              "  </button>\n",
              "\n",
              "<style>\n",
              "  .colab-df-quickchart {\n",
              "      --bg-color: #E8F0FE;\n",
              "      --fill-color: #1967D2;\n",
              "      --hover-bg-color: #E2EBFA;\n",
              "      --hover-fill-color: #174EA6;\n",
              "      --disabled-fill-color: #AAA;\n",
              "      --disabled-bg-color: #DDD;\n",
              "  }\n",
              "\n",
              "  [theme=dark] .colab-df-quickchart {\n",
              "      --bg-color: #3B4455;\n",
              "      --fill-color: #D2E3FC;\n",
              "      --hover-bg-color: #434B5C;\n",
              "      --hover-fill-color: #FFFFFF;\n",
              "      --disabled-bg-color: #3B4455;\n",
              "      --disabled-fill-color: #666;\n",
              "  }\n",
              "\n",
              "  .colab-df-quickchart {\n",
              "    background-color: var(--bg-color);\n",
              "    border: none;\n",
              "    border-radius: 50%;\n",
              "    cursor: pointer;\n",
              "    display: none;\n",
              "    fill: var(--fill-color);\n",
              "    height: 32px;\n",
              "    padding: 0;\n",
              "    width: 32px;\n",
              "  }\n",
              "\n",
              "  .colab-df-quickchart:hover {\n",
              "    background-color: var(--hover-bg-color);\n",
              "    box-shadow: 0 1px 2px rgba(60, 64, 67, 0.3), 0 1px 3px 1px rgba(60, 64, 67, 0.15);\n",
              "    fill: var(--button-hover-fill-color);\n",
              "  }\n",
              "\n",
              "  .colab-df-quickchart-complete:disabled,\n",
              "  .colab-df-quickchart-complete:disabled:hover {\n",
              "    background-color: var(--disabled-bg-color);\n",
              "    fill: var(--disabled-fill-color);\n",
              "    box-shadow: none;\n",
              "  }\n",
              "\n",
              "  .colab-df-spinner {\n",
              "    border: 2px solid var(--fill-color);\n",
              "    border-color: transparent;\n",
              "    border-bottom-color: var(--fill-color);\n",
              "    animation:\n",
              "      spin 1s steps(1) infinite;\n",
              "  }\n",
              "\n",
              "  @keyframes spin {\n",
              "    0% {\n",
              "      border-color: transparent;\n",
              "      border-bottom-color: var(--fill-color);\n",
              "      border-left-color: var(--fill-color);\n",
              "    }\n",
              "    20% {\n",
              "      border-color: transparent;\n",
              "      border-left-color: var(--fill-color);\n",
              "      border-top-color: var(--fill-color);\n",
              "    }\n",
              "    30% {\n",
              "      border-color: transparent;\n",
              "      border-left-color: var(--fill-color);\n",
              "      border-top-color: var(--fill-color);\n",
              "      border-right-color: var(--fill-color);\n",
              "    }\n",
              "    40% {\n",
              "      border-color: transparent;\n",
              "      border-right-color: var(--fill-color);\n",
              "      border-top-color: var(--fill-color);\n",
              "    }\n",
              "    60% {\n",
              "      border-color: transparent;\n",
              "      border-right-color: var(--fill-color);\n",
              "    }\n",
              "    80% {\n",
              "      border-color: transparent;\n",
              "      border-right-color: var(--fill-color);\n",
              "      border-bottom-color: var(--fill-color);\n",
              "    }\n",
              "    90% {\n",
              "      border-color: transparent;\n",
              "      border-bottom-color: var(--fill-color);\n",
              "    }\n",
              "  }\n",
              "</style>\n",
              "\n",
              "  <script>\n",
              "    async function quickchart(key) {\n",
              "      const quickchartButtonEl =\n",
              "        document.querySelector('#' + key + ' button');\n",
              "      quickchartButtonEl.disabled = true;  // To prevent multiple clicks.\n",
              "      quickchartButtonEl.classList.add('colab-df-spinner');\n",
              "      try {\n",
              "        const charts = await google.colab.kernel.invokeFunction(\n",
              "            'suggestCharts', [key], {});\n",
              "      } catch (error) {\n",
              "        console.error('Error during call to suggestCharts:', error);\n",
              "      }\n",
              "      quickchartButtonEl.classList.remove('colab-df-spinner');\n",
              "      quickchartButtonEl.classList.add('colab-df-quickchart-complete');\n",
              "    }\n",
              "    (() => {\n",
              "      let quickchartButtonEl =\n",
              "        document.querySelector('#df-19442d59-3b3f-4f02-a6c3-139adfc82e30 button');\n",
              "      quickchartButtonEl.style.display =\n",
              "        google.colab.kernel.accessAllowed ? 'block' : 'none';\n",
              "    })();\n",
              "  </script>\n",
              "</div>\n",
              "    </div>\n",
              "  </div>\n"
            ]
          },
          "metadata": {},
          "execution_count": 23
        }
      ]
    },
    {
      "cell_type": "code",
      "source": [
        "plot_validation_and_test_accuracy(results_df)"
      ],
      "metadata": {
        "colab": {
          "base_uri": "https://localhost:8080/",
          "height": 430
        },
        "id": "xaXMLZyXV_9e",
        "outputId": "54aadfe6-e5fe-4a5d-c3fb-884a463a7287"
      },
      "execution_count": null,
      "outputs": [
        {
          "output_type": "display_data",
          "data": {
            "text/plain": [
              "<Figure size 640x480 with 1 Axes>"
            ],
            "image/png": "[encoded data removed]"
          },
          "metadata": {}
        }
      ]
    },
    {
      "cell_type": "code",
      "source": [
        "# Loading the best set of weights\n",
        "best = \"/content/models/cp-0030.ckpt\"\n",
        "model.load_weights(best)"
      ],
      "metadata": {
        "colab": {
          "base_uri": "https://localhost:8080/"
        },
        "id": "-06EUbktYG3L",
        "outputId": "84e28206-f6fa-481c-fab8-c2b789b4f321"
      },
      "execution_count": null,
      "outputs": [
        {
          "output_type": "execute_result",
          "data": {
            "text/plain": [
              "<tensorflow.python.checkpoint.checkpoint.CheckpointLoadStatus at 0x7be80cacbe80>"
            ]
          },
          "metadata": {},
          "execution_count": 27
        }
      ]
    },
    {
      "cell_type": "code",
      "source": [
        "# Testing the model on Test Data\n",
        "test_loss, test_acc = model.evaluate(test_generator)\n",
        "print('test acc:', test_acc)"
      ],
      "metadata": {
        "colab": {
          "base_uri": "https://localhost:8080/"
        },
        "id": "hiTm1gEKYGth",
        "outputId": "b030000f-d272-4765-c66e-30bb3853dd5a"
      },
      "execution_count": null,
      "outputs": [
        {
          "output_type": "stream",
          "name": "stdout",
          "text": [
            "8/8 [==============================] - 1s 139ms/step - loss: 0.2722 - acc: 0.9352\n",
            "test acc: 0.9351851940155029\n"
          ]
        }
      ]
    },
    {
      "cell_type": "markdown",
      "source": [
        "# Classification Report"
      ],
      "metadata": {
        "id": "tDjeZjoWZoRS"
      }
    },
    {
      "cell_type": "markdown",
      "source": [
        "# Undersampling the positive images test split"
      ],
      "metadata": {
        "id": "ox0DqU8eZt4-"
      }
    },
    {
      "cell_type": "code",
      "source": [
        "source_folder       =  '/content/drive/MyDrive/Datasets/d_lung_cancer_datatset/test/negative'\n",
        "destination_folder  =  '/content/lung cancer dataset/temporary'\n",
        "num_files_to_move   =  12  # Change this to the desired number of files to move\n",
        "\n",
        "move_files(source_folder, destination_folder, num_files_to_move)\n",
        "\n"
      ],
      "metadata": {
        "colab": {
          "base_uri": "https://localhost:8080/"
        },
        "id": "uFLBQF_sZtnI",
        "outputId": "643a0f4c-5071-4470-c69c-dae93f38b80c"
      },
      "execution_count": null,
      "outputs": [
        {
          "output_type": "stream",
          "name": "stdout",
          "text": [
            "Moved: person100_bacteria_479.jpeg\n",
            "Moved: person102_bacteria_487.jpeg\n",
            "Moved: person103_bacteria_488.jpeg\n",
            "Moved: person103_bacteria_489.jpeg\n",
            "Moved: person104_bacteria_491.jpeg\n",
            "Moved: person104_bacteria_492.jpeg\n",
            "Moved: person108_bacteria_504.jpeg\n",
            "Moved: person108_bacteria_511.jpeg\n",
            "Moved: person109_bacteria_513.jpeg\n",
            "Moved: person11_virus_38.jpeg\n",
            "Moved: person139_bacteria_665.jpeg\n",
            "Moved: person141_bacteria_670.jpeg\n"
          ]
        }
      ]
    },
    {
      "cell_type": "code",
      "source": [
        "# New test generator\n",
        "# from sklearn.metrics import classification_report\n",
        "\n",
        "test_generator       = gen.flow_from_directory(\n",
        "                                                '/content/drive/MyDrive/Datasets/d_lung_cancer_datatset/test',\n",
        "                                                target_size      =  (200, 200),\n",
        "                                                batch_size       =  96,\n",
        "                                                class_mode       =  'binary')\n",
        "\n",
        "batch, true_labels         =  next(test_generator)\n",
        "predicted_probabilities    =  model.predict(batch)\n",
        "predicted_labels = (predicted_probabilities > 0.5).astype(int).reshape(96,1)\n",
        "\n",
        "# Generating the classification report\n",
        "report = classification_report(true_labels, predicted_labels)\n",
        "\n",
        "print(report)\n"
      ],
      "metadata": {
        "colab": {
          "base_uri": "https://localhost:8080/"
        },
        "id": "Jqk2RvV5ZtkJ",
        "outputId": "488eaf20-af4c-4e39-dd37-990bb6f8e92c"
      },
      "execution_count": null,
      "outputs": [
        {
          "output_type": "stream",
          "name": "stdout",
          "text": [
            "Found 96 images belonging to 2 classes.\n",
            "3/3 [==============================] - 1s 15ms/step\n",
            "              precision    recall  f1-score   support\n",
            "\n",
            "         0.0       0.96      0.90      0.92        48\n",
            "         1.0       0.90      0.96      0.93        48\n",
            "\n",
            "    accuracy                           0.93        96\n",
            "   macro avg       0.93      0.93      0.93        96\n",
            "weighted avg       0.93      0.93      0.93        96\n",
            "\n"
          ]
        }
      ]
    },
    {
      "cell_type": "markdown",
      "source": [
        "# Confusion Matrix"
      ],
      "metadata": {
        "id": "47Q9S834jnP-"
      }
    },
    {
      "cell_type": "code",
      "source": [
        "from sklearn.metrics import confusion_matrix\n",
        "conf_matrix = confusion_matrix(true_labels, predicted_labels)"
      ],
      "metadata": {
        "id": "IFYdsa09ZthF"
      },
      "execution_count": null,
      "outputs": []
    },
    {
      "cell_type": "code",
      "source": [
        "print(conf_matrix.shape)"
      ],
      "metadata": {
        "colab": {
          "base_uri": "https://localhost:8080/"
        },
        "id": "k66gBa2cZstz",
        "outputId": "a347037f-52d6-4951-aef3-16cac72e704c"
      },
      "execution_count": null,
      "outputs": [
        {
          "output_type": "stream",
          "name": "stdout",
          "text": [
            "(2, 2)\n"
          ]
        }
      ]
    },
    {
      "cell_type": "code",
      "source": [
        "plot_confusion_matrix(conf_matrix, class_labels)\n"
      ],
      "metadata": {
        "colab": {
          "base_uri": "https://localhost:8080/",
          "height": 426
        },
        "id": "m7IZTP_1YGqp",
        "outputId": "ae8cba17-9a40-4190-c1cf-4a2588b52189"
      },
      "execution_count": null,
      "outputs": [
        {
          "output_type": "display_data",
          "data": {
            "text/plain": [
              "<Figure size 600x400 with 2 Axes>"
            ],
            "image/png": "[encoded data removed]"
          },
          "metadata": {}
        }
      ]
    },
    {
      "cell_type": "code",
      "source": [
        "conf_matrix"
      ],
      "metadata": {
        "colab": {
          "base_uri": "https://localhost:8080/"
        },
        "id": "2WRha6vxj7U7",
        "outputId": "19a00998-7227-4d09-dbab-eb6ae35af228"
      },
      "execution_count": null,
      "outputs": [
        {
          "output_type": "execute_result",
          "data": {
            "text/plain": [
              "array([[43,  5],\n",
              "       [ 2, 46]])"
            ]
          },
          "metadata": {},
          "execution_count": 42
        }
      ]
    },
    {
      "cell_type": "markdown",
      "source": [
        "# With Data Augmentation"
      ],
      "metadata": {
        "id": "mkfypUc9l29a"
      }
    },
    {
      "cell_type": "code",
      "source": [
        "# I have manually done undersampling on positive training images, to nullify class imbalance\n",
        "# I have moved first 12 (positive1, 2, 3 , ..14) images to a temporay folder 'lung cancer dataset/ tempporary for positive train....'\n"
      ],
      "metadata": {
        "id": "7clEkhD6j7R9"
      },
      "execution_count": null,
      "outputs": []
    },
    {
      "cell_type": "code",
      "source": [
        "print('total training +ive images:'              , len(os.listdir(r'/content/drive/MyDrive/Datasets/d_lung_cancer_datatset/train/positive')))\n",
        "print('total training -ive images:'              , len(os.listdir(r'/content/drive/MyDrive/Datasets/d_lung_cancer_datatset/train/negative')))\n",
        "print('\\n')\n",
        "\n",
        "print('total validation +ive images:'            , len(os.listdir(r'/content/drive/MyDrive/Datasets/d_lung_cancer_datatset/val/positive')))\n",
        "print('total validation -ive images:'            , len(os.listdir(r'/content/drive/MyDrive/Datasets/d_lung_cancer_datatset/val/negative')))\n",
        "print('\\n')\n",
        "\n",
        "print('total test +ive images:'                  , len(os.listdir(r'/content/drive/MyDrive/Datasets/d_lung_cancer_datatset/test/positive')))\n",
        "print('total test -ive images:'                  , len(os.listdir(r'/content/drive/MyDrive/Datasets/d_lung_cancer_datatset/test/negative')))\n"
      ],
      "metadata": {
        "colab": {
          "base_uri": "https://localhost:8080/"
        },
        "id": "M9ei99Xmj7Ov",
        "outputId": "24029092-e7e2-4792-df04-4269a87fb3bd"
      },
      "execution_count": null,
      "outputs": [
        {
          "output_type": "stream",
          "name": "stdout",
          "text": [
            "total training +ive images: 140\n",
            "total training -ive images: 180\n",
            "\n",
            "\n",
            "total validation +ive images: 46\n",
            "total validation -ive images: 61\n",
            "\n",
            "\n",
            "total test +ive images: 48\n",
            "total test -ive images: 48\n"
          ]
        }
      ]
    },
    {
      "cell_type": "code",
      "source": [
        "# from tensorflow.keras.preprocessing.image import ImageDataGenerator\n",
        "# ImageDataGenerator: specially designed for image data\n",
        "\n",
        "train_dir       =  r'/content/drive/MyDrive/Datasets/d_lung_cancer_datatset/train'\n",
        "validation_dir  =  r'/content/drive/MyDrive/Datasets/d_lung_cancer_datatset/val'\n",
        "test_dir        =  r'/content/drive/MyDrive/Datasets/d_lung_cancer_datatset/test'\n",
        "\n",
        "\n",
        "train_datagen = ImageDataGenerator(\n",
        "                    rescale             =  1./255,\n",
        "                    rotation_range      =  10,\n",
        "                    width_shift_range   =  0.1,\n",
        "                    height_shift_range  =  0.1,\n",
        "                    shear_range         =  0.1,\n",
        "                    zoom_range          =  0.1,\n",
        "                    horizontal_flip     =  True,)\n",
        "\n",
        "\n",
        "\n",
        "test_datagen   = ImageDataGenerator(rescale = 1./255) # Validation data ko augment nahi kr rahay\n",
        "\n",
        "\n",
        "train_generator      = train_datagen.flow_from_directory(\n",
        "                        train_dir,\n",
        "                        target_size  =  (200, 200),\n",
        "                        batch_size   =  15,\n",
        "                        class_mode   =  'binary')\n",
        "\n",
        "validation_generator = test_datagen.flow_from_directory(\n",
        "                        validation_dir,\n",
        "                        target_size  =  (200, 200),\n",
        "                        batch_size   =  15,\n",
        "                        class_mode   =  'binary')\n",
        "\n",
        "test_generator       = test_datagen.flow_from_directory(\n",
        "                        test_dir,\n",
        "                        target_size  =  (200, 200),\n",
        "                        batch_size   =  15,\n",
        "                        class_mode   =  'binary')\n"
      ],
      "metadata": {
        "colab": {
          "base_uri": "https://localhost:8080/"
        },
        "id": "b7HLHQg3j7LO",
        "outputId": "3f723b8b-c331-46a1-d93f-f5d42e3ba599"
      },
      "execution_count": null,
      "outputs": [
        {
          "output_type": "stream",
          "name": "stdout",
          "text": [
            "Found 320 images belonging to 2 classes.\n",
            "Found 106 images belonging to 2 classes.\n",
            "Found 96 images belonging to 2 classes.\n"
          ]
        }
      ]
    },
    {
      "cell_type": "code",
      "source": [
        "# from tensorflow.keras import layers\n",
        "# from tensorflow.keras import models\n",
        "\n",
        "model = models.Sequential()\n",
        "\n",
        "# Convolutional Base\n",
        "model.add(layers.Conv2D(32, (3, 3), activation='relu', input_shape=(200, 200, 3)))\n",
        "model.add(layers.MaxPooling2D((2, 2)))\n",
        "model.add(layers.Conv2D(64, (3, 3), activation='relu'))\n",
        "model.add(layers.MaxPooling2D((2, 2)))\n",
        "model.add(layers.Conv2D(128, (3, 3), activation='relu'))\n",
        "model.add(layers.MaxPooling2D((2, 2)))\n",
        "model.add(layers.Conv2D(128, (3, 3), activation='relu'))\n",
        "model.add(layers.MaxPooling2D((2, 2)))\n",
        "\n",
        "# Classifier Base\n",
        "model.add(layers.Flatten())\n",
        "#model.add(layers.Dropout(0.1)) # Dropout layer lga di\n",
        "model.add(layers.Dense(512, activation='relu'))\n",
        "model.add(layers.Dense(1, activation='sigmoid'))\n",
        "\n",
        "model.summary()\n",
        "\n",
        "optimizer = optimizers.Adam(learning_rate=0.001)\n",
        "model.compile(loss       =  'binary_crossentropy',\n",
        "              optimizer  =  optimizer,\n",
        "              metrics    =  ['acc'])\n"
      ],
      "metadata": {
        "colab": {
          "base_uri": "https://localhost:8080/"
        },
        "id": "EWi3AVaaj7Ha",
        "outputId": "efd2966b-8ef4-4e8d-cbaa-34cbbd746cf2"
      },
      "execution_count": 2,
      "outputs": [
        {
          "output_type": "stream",
          "name": "stdout",
          "text": [
            "Model: \"sequential\"\n",
            "_________________________________________________________________\n",
            " Layer (type)                Output Shape              Param #   \n",
            "=================================================================\n",
            " conv2d (Conv2D)             (None, 198, 198, 32)      896       \n",
            "                                                                 \n",
            " max_pooling2d (MaxPooling2  (None, 99, 99, 32)        0         \n",
            " D)                                                              \n",
            "                                                                 \n",
            " conv2d_1 (Conv2D)           (None, 97, 97, 64)        18496     \n",
            "                                                                 \n",
            " max_pooling2d_1 (MaxPoolin  (None, 48, 48, 64)        0         \n",
            " g2D)                                                            \n",
            "                                                                 \n",
            " conv2d_2 (Conv2D)           (None, 46, 46, 128)       73856     \n",
            "                                                                 \n",
            " max_pooling2d_2 (MaxPoolin  (None, 23, 23, 128)       0         \n",
            " g2D)                                                            \n",
            "                                                                 \n",
            " conv2d_3 (Conv2D)           (None, 21, 21, 128)       147584    \n",
            "                                                                 \n",
            " max_pooling2d_3 (MaxPoolin  (None, 10, 10, 128)       0         \n",
            " g2D)                                                            \n",
            "                                                                 \n",
            " flatten (Flatten)           (None, 12800)             0         \n",
            "                                                                 \n",
            " dense (Dense)               (None, 512)               6554112   \n",
            "                                                                 \n",
            " dense_1 (Dense)             (None, 1)                 513       \n",
            "                                                                 \n",
            "=================================================================\n",
            "Total params: 6795457 (25.92 MB)\n",
            "Trainable params: 6795457 (25.92 MB)\n",
            "Non-trainable params: 0 (0.00 Byte)\n",
            "_________________________________________________________________\n"
          ]
        }
      ]
    },
    {
      "cell_type": "code",
      "source": [
        "# import tensorflow as tf\n",
        "# from tensorflow.keras import callbacks\n",
        "\n",
        "# The sets-of-weights at d/f epochs will have d/f names\n",
        "checkpoint_path = '/content/drive/MyDrive/google colab/data_augmentation_cps/cp-{epoch:04d}.ckpt'\n",
        "\n",
        "# converting it into a directory\n",
        "checkpoint_dir  = os.path.dirname(checkpoint_path)\n",
        "\n",
        "cp_callback = callbacks.ModelCheckpoint(checkpoint_path, verbose = 1, save_weights_only = True)\n",
        "\n",
        "# For details and much more, see this official video from tensorflow\n",
        "# https://www.youtube.com/watch?v=HxtBIwfy0kM\n"
      ],
      "metadata": {
        "id": "r9s1aVt_j7Dn"
      },
      "execution_count": null,
      "outputs": []
    },
    {
      "cell_type": "code",
      "source": [
        "history = model.fit(train_generator,\n",
        "                    epochs            =  30,\n",
        "                    validation_data   =  validation_generator,\n",
        "                    callbacks         =  cp_callback\n",
        "                  )\n"
      ],
      "metadata": {
        "colab": {
          "base_uri": "https://localhost:8080/"
        },
        "id": "wsGahuj3j6_o",
        "outputId": "315448f2-ac32-4e82-9f89-716d2f40ca15"
      },
      "execution_count": null,
      "outputs": [
        {
          "output_type": "stream",
          "name": "stdout",
          "text": [
            "Epoch 1/30\n",
            "22/22 [==============================] - ETA: 0s - loss: 0.7059 - acc: 0.5000\n",
            "Epoch 1: saving model to /content/drive/MyDrive/google colab/data_augmentation_cps/cp-0001.ckpt\n",
            "22/22 [==============================] - 12s 419ms/step - loss: 0.7059 - acc: 0.5000 - val_loss: 0.6880 - val_acc: 0.5660\n",
            "Epoch 2/30\n",
            "22/22 [==============================] - ETA: 0s - loss: 0.6886 - acc: 0.5625\n",
            "Epoch 2: saving model to /content/drive/MyDrive/google colab/data_augmentation_cps/cp-0002.ckpt\n",
            "22/22 [==============================] - 8s 362ms/step - loss: 0.6886 - acc: 0.5625 - val_loss: 0.6786 - val_acc: 0.5660\n",
            "Epoch 3/30\n",
            "22/22 [==============================] - ETA: 0s - loss: 0.6373 - acc: 0.5844\n",
            "Epoch 3: saving model to /content/drive/MyDrive/google colab/data_augmentation_cps/cp-0003.ckpt\n",
            "22/22 [==============================] - 8s 353ms/step - loss: 0.6373 - acc: 0.5844 - val_loss: 0.6773 - val_acc: 0.6038\n",
            "Epoch 4/30\n",
            "22/22 [==============================] - ETA: 0s - loss: 0.6207 - acc: 0.6875\n",
            "Epoch 4: saving model to /content/drive/MyDrive/google colab/data_augmentation_cps/cp-0004.ckpt\n",
            "22/22 [==============================] - 9s 416ms/step - loss: 0.6207 - acc: 0.6875 - val_loss: 0.6027 - val_acc: 0.6981\n",
            "Epoch 5/30\n",
            "22/22 [==============================] - ETA: 0s - loss: 0.6070 - acc: 0.7156\n",
            "Epoch 5: saving model to /content/drive/MyDrive/google colab/data_augmentation_cps/cp-0005.ckpt\n",
            "22/22 [==============================] - 10s 441ms/step - loss: 0.6070 - acc: 0.7156 - val_loss: 0.5948 - val_acc: 0.7264\n",
            "Epoch 6/30\n",
            "22/22 [==============================] - ETA: 0s - loss: 0.5449 - acc: 0.7406\n",
            "Epoch 6: saving model to /content/drive/MyDrive/google colab/data_augmentation_cps/cp-0006.ckpt\n",
            "22/22 [==============================] - 8s 357ms/step - loss: 0.5449 - acc: 0.7406 - val_loss: 0.4829 - val_acc: 0.8208\n",
            "Epoch 7/30\n",
            "22/22 [==============================] - ETA: 0s - loss: 0.4950 - acc: 0.7812\n",
            "Epoch 7: saving model to /content/drive/MyDrive/google colab/data_augmentation_cps/cp-0007.ckpt\n",
            "22/22 [==============================] - 9s 423ms/step - loss: 0.4950 - acc: 0.7812 - val_loss: 0.7922 - val_acc: 0.6321\n",
            "Epoch 8/30\n",
            "22/22 [==============================] - ETA: 0s - loss: 0.4483 - acc: 0.8281\n",
            "Epoch 8: saving model to /content/drive/MyDrive/google colab/data_augmentation_cps/cp-0008.ckpt\n",
            "22/22 [==============================] - 10s 448ms/step - loss: 0.4483 - acc: 0.8281 - val_loss: 0.4709 - val_acc: 0.8113\n",
            "Epoch 9/30\n",
            "22/22 [==============================] - ETA: 0s - loss: 0.4341 - acc: 0.8219\n",
            "Epoch 9: saving model to /content/drive/MyDrive/google colab/data_augmentation_cps/cp-0009.ckpt\n",
            "22/22 [==============================] - 8s 358ms/step - loss: 0.4341 - acc: 0.8219 - val_loss: 0.4621 - val_acc: 0.7736\n",
            "Epoch 10/30\n",
            "22/22 [==============================] - ETA: 0s - loss: 0.5216 - acc: 0.7312\n",
            "Epoch 10: saving model to /content/drive/MyDrive/google colab/data_augmentation_cps/cp-0010.ckpt\n",
            "22/22 [==============================] - 9s 428ms/step - loss: 0.5216 - acc: 0.7312 - val_loss: 0.6435 - val_acc: 0.6415\n",
            "Epoch 11/30\n",
            "22/22 [==============================] - ETA: 0s - loss: 0.4856 - acc: 0.8000\n",
            "Epoch 11: saving model to /content/drive/MyDrive/google colab/data_augmentation_cps/cp-0011.ckpt\n",
            "22/22 [==============================] - 9s 431ms/step - loss: 0.4856 - acc: 0.8000 - val_loss: 0.5353 - val_acc: 0.8113\n",
            "Epoch 12/30\n",
            "22/22 [==============================] - ETA: 0s - loss: 0.3958 - acc: 0.8125\n",
            "Epoch 12: saving model to /content/drive/MyDrive/google colab/data_augmentation_cps/cp-0012.ckpt\n",
            "22/22 [==============================] - 8s 354ms/step - loss: 0.3958 - acc: 0.8125 - val_loss: 0.5557 - val_acc: 0.7830\n",
            "Epoch 13/30\n",
            "22/22 [==============================] - ETA: 0s - loss: 0.3596 - acc: 0.8500\n",
            "Epoch 13: saving model to /content/drive/MyDrive/google colab/data_augmentation_cps/cp-0013.ckpt\n",
            "22/22 [==============================] - 9s 416ms/step - loss: 0.3596 - acc: 0.8500 - val_loss: 0.4657 - val_acc: 0.8396\n",
            "Epoch 14/30\n",
            "22/22 [==============================] - ETA: 0s - loss: 0.3205 - acc: 0.8656\n",
            "Epoch 14: saving model to /content/drive/MyDrive/google colab/data_augmentation_cps/cp-0014.ckpt\n",
            "22/22 [==============================] - 9s 421ms/step - loss: 0.3205 - acc: 0.8656 - val_loss: 0.9093 - val_acc: 0.6887\n",
            "Epoch 15/30\n",
            "22/22 [==============================] - ETA: 0s - loss: 0.3487 - acc: 0.8500\n",
            "Epoch 15: saving model to /content/drive/MyDrive/google colab/data_augmentation_cps/cp-0015.ckpt\n",
            "22/22 [==============================] - 8s 375ms/step - loss: 0.3487 - acc: 0.8500 - val_loss: 0.4721 - val_acc: 0.7736\n",
            "Epoch 16/30\n",
            "22/22 [==============================] - ETA: 0s - loss: 0.4023 - acc: 0.8406\n",
            "Epoch 16: saving model to /content/drive/MyDrive/google colab/data_augmentation_cps/cp-0016.ckpt\n",
            "22/22 [==============================] - 11s 490ms/step - loss: 0.4023 - acc: 0.8406 - val_loss: 0.4205 - val_acc: 0.8208\n",
            "Epoch 17/30\n",
            "22/22 [==============================] - ETA: 0s - loss: 0.3912 - acc: 0.8250\n",
            "Epoch 17: saving model to /content/drive/MyDrive/google colab/data_augmentation_cps/cp-0017.ckpt\n",
            "22/22 [==============================] - 9s 421ms/step - loss: 0.3912 - acc: 0.8250 - val_loss: 0.5086 - val_acc: 0.7830\n",
            "Epoch 18/30\n",
            "22/22 [==============================] - ETA: 0s - loss: 0.3759 - acc: 0.8687\n",
            "Epoch 18: saving model to /content/drive/MyDrive/google colab/data_augmentation_cps/cp-0018.ckpt\n",
            "22/22 [==============================] - 8s 351ms/step - loss: 0.3759 - acc: 0.8687 - val_loss: 0.4488 - val_acc: 0.8396\n",
            "Epoch 19/30\n",
            "22/22 [==============================] - ETA: 0s - loss: 0.3212 - acc: 0.8562\n",
            "Epoch 19: saving model to /content/drive/MyDrive/google colab/data_augmentation_cps/cp-0019.ckpt\n",
            "22/22 [==============================] - 10s 445ms/step - loss: 0.3212 - acc: 0.8562 - val_loss: 0.3811 - val_acc: 0.8019\n",
            "Epoch 20/30\n",
            "22/22 [==============================] - ETA: 0s - loss: 0.3352 - acc: 0.8375\n",
            "Epoch 20: saving model to /content/drive/MyDrive/google colab/data_augmentation_cps/cp-0020.ckpt\n",
            "22/22 [==============================] - 8s 352ms/step - loss: 0.3352 - acc: 0.8375 - val_loss: 0.4492 - val_acc: 0.8302\n",
            "Epoch 21/30\n",
            "22/22 [==============================] - ETA: 0s - loss: 0.3303 - acc: 0.8500\n",
            "Epoch 21: saving model to /content/drive/MyDrive/google colab/data_augmentation_cps/cp-0021.ckpt\n",
            "22/22 [==============================] - 9s 419ms/step - loss: 0.3303 - acc: 0.8500 - val_loss: 0.3827 - val_acc: 0.8302\n",
            "Epoch 22/30\n",
            "22/22 [==============================] - ETA: 0s - loss: 0.3095 - acc: 0.8531\n",
            "Epoch 22: saving model to /content/drive/MyDrive/google colab/data_augmentation_cps/cp-0022.ckpt\n",
            "22/22 [==============================] - 9s 428ms/step - loss: 0.3095 - acc: 0.8531 - val_loss: 0.5999 - val_acc: 0.7830\n",
            "Epoch 23/30\n",
            "22/22 [==============================] - ETA: 0s - loss: 0.3297 - acc: 0.8469\n",
            "Epoch 23: saving model to /content/drive/MyDrive/google colab/data_augmentation_cps/cp-0023.ckpt\n",
            "22/22 [==============================] - 8s 365ms/step - loss: 0.3297 - acc: 0.8469 - val_loss: 0.3503 - val_acc: 0.8208\n",
            "Epoch 24/30\n",
            "22/22 [==============================] - ETA: 0s - loss: 0.2959 - acc: 0.8750\n",
            "Epoch 24: saving model to /content/drive/MyDrive/google colab/data_augmentation_cps/cp-0024.ckpt\n",
            "22/22 [==============================] - 9s 400ms/step - loss: 0.2959 - acc: 0.8750 - val_loss: 0.3460 - val_acc: 0.8679\n",
            "Epoch 25/30\n",
            "22/22 [==============================] - ETA: 0s - loss: 0.2919 - acc: 0.8719\n",
            "Epoch 25: saving model to /content/drive/MyDrive/google colab/data_augmentation_cps/cp-0025.ckpt\n",
            "22/22 [==============================] - 9s 412ms/step - loss: 0.2919 - acc: 0.8719 - val_loss: 0.9382 - val_acc: 0.6887\n",
            "Epoch 26/30\n",
            "22/22 [==============================] - ETA: 0s - loss: 0.2664 - acc: 0.9000\n",
            "Epoch 26: saving model to /content/drive/MyDrive/google colab/data_augmentation_cps/cp-0026.ckpt\n",
            "22/22 [==============================] - 8s 374ms/step - loss: 0.2664 - acc: 0.9000 - val_loss: 0.4705 - val_acc: 0.8585\n",
            "Epoch 27/30\n",
            "22/22 [==============================] - ETA: 0s - loss: 0.3053 - acc: 0.8719\n",
            "Epoch 27: saving model to /content/drive/MyDrive/google colab/data_augmentation_cps/cp-0027.ckpt\n",
            "22/22 [==============================] - 9s 431ms/step - loss: 0.3053 - acc: 0.8719 - val_loss: 0.4951 - val_acc: 0.7453\n",
            "Epoch 28/30\n",
            "22/22 [==============================] - ETA: 0s - loss: 0.3147 - acc: 0.8531\n",
            "Epoch 28: saving model to /content/drive/MyDrive/google colab/data_augmentation_cps/cp-0028.ckpt\n",
            "22/22 [==============================] - 9s 418ms/step - loss: 0.3147 - acc: 0.8531 - val_loss: 0.3428 - val_acc: 0.8396\n",
            "Epoch 29/30\n",
            "22/22 [==============================] - ETA: 0s - loss: 0.2814 - acc: 0.8719\n",
            "Epoch 29: saving model to /content/drive/MyDrive/google colab/data_augmentation_cps/cp-0029.ckpt\n",
            "22/22 [==============================] - 8s 356ms/step - loss: 0.2814 - acc: 0.8719 - val_loss: 0.3867 - val_acc: 0.8491\n",
            "Epoch 30/30\n",
            "22/22 [==============================] - ETA: 0s - loss: 0.2819 - acc: 0.8813\n",
            "Epoch 30: saving model to /content/drive/MyDrive/google colab/data_augmentation_cps/cp-0030.ckpt\n",
            "22/22 [==============================] - 10s 452ms/step - loss: 0.2819 - acc: 0.8813 - val_loss: 0.5174 - val_acc: 0.8208\n"
          ]
        }
      ]
    },
    {
      "cell_type": "code",
      "source": [
        "model.save('lung_cancer_simple_augmented.h5')"
      ],
      "metadata": {
        "id": "FdDV_Pe8rAFE"
      },
      "execution_count": null,
      "outputs": []
    },
    {
      "cell_type": "code",
      "source": [
        "plot_training_history(history)"
      ],
      "metadata": {
        "colab": {
          "base_uri": "https://localhost:8080/",
          "height": 887
        },
        "id": "Rh-zxGG8q_to",
        "outputId": "039d5756-5389-4db7-c71b-08b9d44ff4ec"
      },
      "execution_count": null,
      "outputs": [
        {
          "output_type": "display_data",
          "data": {
            "text/plain": [
              "<Figure size 640x480 with 1 Axes>"
            ],
            "image/png": "[encoded data removed]"
          },
          "metadata": {}
        },
        {
          "output_type": "display_data",
          "data": {
            "text/plain": [
              "<Figure size 640x480 with 1 Axes>"
            ],
            "image/png": "[encoded data removed]"
          },
          "metadata": {}
        }
      ]
    },
    {
      "cell_type": "code",
      "source": [
        "if __name__ == \"__main__\":\n",
        "    checkpoint_folder = r\"/content/drive/MyDrive/google colab/data_augmentation_cps\"\n",
        "\n",
        "    # Load your pre-built model here\n",
        "    model = load_model('lung_cancer_simple_augmented.h5')  # Replace with the path to your model\n",
        "\n",
        "\n",
        "    test_generator       = test_generator\n",
        "    validation_generator = validation_generator\n",
        "\n",
        "    results_df = evaluate_checkpoints(checkpoint_folder, model, test_generator, validation_generator)\n",
        "    results_df"
      ],
      "metadata": {
        "colab": {
          "base_uri": "https://localhost:8080/"
        },
        "id": "H8PgYYlMsk8t",
        "outputId": "bcb7a710-8a17-4cff-a894-d31ba75de988"
      },
      "execution_count": null,
      "outputs": [
        {
          "output_type": "stream",
          "name": "stdout",
          "text": [
            "8/8 [==============================] - 2s 204ms/step - loss: 0.6880 - acc: 0.5660\n",
            "7/7 [==============================] - 1s 181ms/step - loss: 0.6985 - acc: 0.5000\n",
            "8/8 [==============================] - 1s 130ms/step - loss: 0.6786 - acc: 0.5660\n",
            "7/7 [==============================] - 1s 133ms/step - loss: 0.6995 - acc: 0.5000\n",
            "8/8 [==============================] - 1s 135ms/step - loss: 0.6773 - acc: 0.6038\n",
            "7/7 [==============================] - 1s 129ms/step - loss: 0.6889 - acc: 0.6146\n",
            "8/8 [==============================] - 1s 124ms/step - loss: 0.6027 - acc: 0.6981\n",
            "7/7 [==============================] - 1s 206ms/step - loss: 0.5929 - acc: 0.6458\n",
            "8/8 [==============================] - 1s 126ms/step - loss: 0.5948 - acc: 0.7264\n",
            "7/7 [==============================] - 1s 116ms/step - loss: 0.5814 - acc: 0.6979\n",
            "8/8 [==============================] - 1s 127ms/step - loss: 0.4829 - acc: 0.8208\n",
            "7/7 [==============================] - 1s 129ms/step - loss: 0.3786 - acc: 0.8958\n",
            "8/8 [==============================] - 1s 131ms/step - loss: 0.7922 - acc: 0.6321\n",
            "7/7 [==============================] - 1s 131ms/step - loss: 0.4339 - acc: 0.7500\n",
            "8/8 [==============================] - 1s 160ms/step - loss: 0.4709 - acc: 0.8113\n",
            "7/7 [==============================] - 1s 166ms/step - loss: 0.2302 - acc: 0.9167\n",
            "8/8 [==============================] - 1s 131ms/step - loss: 0.4621 - acc: 0.7736\n",
            "7/7 [==============================] - 1s 121ms/step - loss: 0.3203 - acc: 0.8958\n",
            "8/8 [==============================] - 1s 136ms/step - loss: 0.6435 - acc: 0.6415\n",
            "7/7 [==============================] - 1s 150ms/step - loss: 0.5947 - acc: 0.7708\n",
            "8/8 [==============================] - 1s 128ms/step - loss: 0.5353 - acc: 0.8113\n",
            "7/7 [==============================] - 1s 134ms/step - loss: 0.2771 - acc: 0.8854\n",
            "8/8 [==============================] - 2s 205ms/step - loss: 0.5557 - acc: 0.7830\n",
            "7/7 [==============================] - 1s 154ms/step - loss: 0.2987 - acc: 0.8646\n",
            "8/8 [==============================] - 1s 126ms/step - loss: 0.4657 - acc: 0.8396\n",
            "7/7 [==============================] - 1s 124ms/step - loss: 0.2544 - acc: 0.8958\n",
            "8/8 [==============================] - 1s 136ms/step - loss: 0.9093 - acc: 0.6887\n",
            "7/7 [==============================] - 1s 130ms/step - loss: 0.4777 - acc: 0.7708\n",
            "8/8 [==============================] - 1s 126ms/step - loss: 0.4721 - acc: 0.7736\n",
            "7/7 [==============================] - 1s 140ms/step - loss: 0.4040 - acc: 0.7604\n",
            "8/8 [==============================] - 2s 204ms/step - loss: 0.4205 - acc: 0.8208\n",
            "7/7 [==============================] - 1s 193ms/step - loss: 0.2846 - acc: 0.9062\n",
            "8/8 [==============================] - 1s 137ms/step - loss: 0.5086 - acc: 0.7830\n",
            "7/7 [==============================] - 1s 125ms/step - loss: 0.3593 - acc: 0.8438\n",
            "8/8 [==============================] - 1s 132ms/step - loss: 0.4488 - acc: 0.8396\n",
            "7/7 [==============================] - 1s 134ms/step - loss: 0.2695 - acc: 0.9062\n",
            "8/8 [==============================] - 1s 131ms/step - loss: 0.3811 - acc: 0.8019\n",
            "7/7 [==============================] - 1s 136ms/step - loss: 0.2639 - acc: 0.8958\n",
            "8/8 [==============================] - 2s 204ms/step - loss: 0.4492 - acc: 0.8302\n",
            "7/7 [==============================] - 1s 191ms/step - loss: 0.2242 - acc: 0.9062\n",
            "8/8 [==============================] - 1s 132ms/step - loss: 0.3827 - acc: 0.8302\n",
            "7/7 [==============================] - 1s 132ms/step - loss: 0.2493 - acc: 0.8958\n",
            "8/8 [==============================] - 1s 120ms/step - loss: 0.5999 - acc: 0.7830\n",
            "7/7 [==============================] - 1s 134ms/step - loss: 0.3083 - acc: 0.8958\n",
            "8/8 [==============================] - 1s 134ms/step - loss: 0.3503 - acc: 0.8208\n",
            "7/7 [==============================] - 1s 178ms/step - loss: 0.2767 - acc: 0.8958\n",
            "8/8 [==============================] - 2s 201ms/step - loss: 0.3460 - acc: 0.8679\n",
            "7/7 [==============================] - 1s 154ms/step - loss: 0.2361 - acc: 0.8854\n",
            "8/8 [==============================] - 1s 125ms/step - loss: 0.9382 - acc: 0.6887\n",
            "7/7 [==============================] - 1s 132ms/step - loss: 0.4490 - acc: 0.8333\n",
            "8/8 [==============================] - 1s 141ms/step - loss: 0.4705 - acc: 0.8585\n",
            "7/7 [==============================] - 1s 130ms/step - loss: 0.2599 - acc: 0.8750\n",
            "8/8 [==============================] - 1s 136ms/step - loss: 0.4951 - acc: 0.7453\n",
            "7/7 [==============================] - 1s 134ms/step - loss: 0.3850 - acc: 0.8125\n",
            "8/8 [==============================] - 2s 187ms/step - loss: 0.3428 - acc: 0.8396\n",
            "7/7 [==============================] - 1s 196ms/step - loss: 0.2094 - acc: 0.9167\n",
            "8/8 [==============================] - 1s 138ms/step - loss: 0.3867 - acc: 0.8491\n",
            "7/7 [==============================] - 1s 125ms/step - loss: 0.2678 - acc: 0.8958\n",
            "8/8 [==============================] - 1s 139ms/step - loss: 0.5174 - acc: 0.8208\n",
            "7/7 [==============================] - 1s 129ms/step - loss: 0.2934 - acc: 0.8854\n"
          ]
        }
      ]
    },
    {
      "cell_type": "code",
      "source": [
        "results_df.sort_values(by=\"Checkpoint\", ascending=True)"
      ],
      "metadata": {
        "colab": {
          "base_uri": "https://localhost:8080/",
          "height": 1000
        },
        "id": "exnVTRGisk5E",
        "outputId": "fc5bd508-381c-4828-efde-ad3da08fc5ad"
      },
      "execution_count": null,
      "outputs": [
        {
          "output_type": "execute_result",
          "data": {
            "text/plain": [
              "            Checkpoint  Validation Loss  Validation Accuracy  Test Loss  \\\n",
              "0   cp-0001.ckpt.index         0.687994             0.566038   0.698503   \n",
              "1   cp-0002.ckpt.index         0.678588             0.566038   0.699541   \n",
              "2   cp-0003.ckpt.index         0.677315             0.603774   0.688894   \n",
              "3   cp-0004.ckpt.index         0.602672             0.698113   0.592947   \n",
              "4   cp-0005.ckpt.index         0.594810             0.726415   0.581363   \n",
              "5   cp-0006.ckpt.index         0.482875             0.820755   0.378614   \n",
              "6   cp-0007.ckpt.index         0.792227             0.632075   0.433888   \n",
              "7   cp-0008.ckpt.index         0.470881             0.811321   0.230166   \n",
              "8   cp-0009.ckpt.index         0.462075             0.773585   0.320287   \n",
              "9   cp-0010.ckpt.index         0.643496             0.641509   0.594657   \n",
              "10  cp-0011.ckpt.index         0.535315             0.811321   0.277075   \n",
              "11  cp-0012.ckpt.index         0.555710             0.783019   0.298701   \n",
              "12  cp-0013.ckpt.index         0.465725             0.839623   0.254357   \n",
              "13  cp-0014.ckpt.index         0.909283             0.688679   0.477742   \n",
              "14  cp-0015.ckpt.index         0.472058             0.773585   0.403992   \n",
              "15  cp-0016.ckpt.index         0.420485             0.820755   0.284610   \n",
              "16  cp-0017.ckpt.index         0.508607             0.783019   0.359276   \n",
              "17  cp-0018.ckpt.index         0.448752             0.839623   0.269497   \n",
              "18  cp-0019.ckpt.index         0.381139             0.801887   0.263937   \n",
              "19  cp-0020.ckpt.index         0.449160             0.830189   0.224170   \n",
              "20  cp-0021.ckpt.index         0.382738             0.830189   0.249307   \n",
              "21  cp-0022.ckpt.index         0.599853             0.783019   0.308287   \n",
              "22  cp-0023.ckpt.index         0.350331             0.820755   0.276737   \n",
              "23  cp-0024.ckpt.index         0.345997             0.867925   0.236139   \n",
              "24  cp-0025.ckpt.index         0.938165             0.688679   0.448959   \n",
              "25  cp-0026.ckpt.index         0.470543             0.858491   0.259905   \n",
              "26  cp-0027.ckpt.index         0.495089             0.745283   0.384951   \n",
              "27  cp-0028.ckpt.index         0.342836             0.839623   0.209368   \n",
              "28  cp-0029.ckpt.index         0.386724             0.849057   0.267830   \n",
              "29  cp-0030.ckpt.index         0.517425             0.820755   0.293376   \n",
              "\n",
              "    Test Accuracy  \n",
              "0        0.500000  \n",
              "1        0.500000  \n",
              "2        0.614583  \n",
              "3        0.645833  \n",
              "4        0.697917  \n",
              "5        0.895833  \n",
              "6        0.750000  \n",
              "7        0.916667  \n",
              "8        0.895833  \n",
              "9        0.770833  \n",
              "10       0.885417  \n",
              "11       0.864583  \n",
              "12       0.895833  \n",
              "13       0.770833  \n",
              "14       0.760417  \n",
              "15       0.906250  \n",
              "16       0.843750  \n",
              "17       0.906250  \n",
              "18       0.895833  \n",
              "19       0.906250  \n",
              "20       0.895833  \n",
              "21       0.895833  \n",
              "22       0.895833  \n",
              "23       0.885417  \n",
              "24       0.833333  \n",
              "25       0.875000  \n",
              "26       0.812500  \n",
              "27       0.916667  \n",
              "28       0.895833  \n",
              "29       0.885417  "
            ],
            "text/html": [
              "\n",
              "  <div id=\"df-0ffa54ea-dd61-4e60-9d6a-98cb943bb9d7\" class=\"colab-df-container\">\n",
              "    <div>\n",
              "<style scoped>\n",
              "    .dataframe tbody tr th:only-of-type {\n",
              "        vertical-align: middle;\n",
              "    }\n",
              "\n",
              "    .dataframe tbody tr th {\n",
              "        vertical-align: top;\n",
              "    }\n",
              "\n",
              "    .dataframe thead th {\n",
              "        text-align: right;\n",
              "    }\n",
              "</style>\n",
              "<table border=\"1\" class=\"dataframe\">\n",
              "  <thead>\n",
              "    <tr style=\"text-align: right;\">\n",
              "      <th></th>\n",
              "      <th>Checkpoint</th>\n",
              "      <th>Validation Loss</th>\n",
              "      <th>Validation Accuracy</th>\n",
              "      <th>Test Loss</th>\n",
              "      <th>Test Accuracy</th>\n",
              "    </tr>\n",
              "  </thead>\n",
              "  <tbody>\n",
              "    <tr>\n",
              "      <th>0</th>\n",
              "      <td>cp-0001.ckpt.index</td>\n",
              "      <td>0.687994</td>\n",
              "      <td>0.566038</td>\n",
              "      <td>0.698503</td>\n",
              "      <td>0.500000</td>\n",
              "    </tr>\n",
              "    <tr>\n",
              "      <th>1</th>\n",
              "      <td>cp-0002.ckpt.index</td>\n",
              "      <td>0.678588</td>\n",
              "      <td>0.566038</td>\n",
              "      <td>0.699541</td>\n",
              "      <td>0.500000</td>\n",
              "    </tr>\n",
              "    <tr>\n",
              "      <th>2</th>\n",
              "      <td>cp-0003.ckpt.index</td>\n",
              "      <td>0.677315</td>\n",
              "      <td>0.603774</td>\n",
              "      <td>0.688894</td>\n",
              "      <td>0.614583</td>\n",
              "    </tr>\n",
              "    <tr>\n",
              "      <th>3</th>\n",
              "      <td>cp-0004.ckpt.index</td>\n",
              "      <td>0.602672</td>\n",
              "      <td>0.698113</td>\n",
              "      <td>0.592947</td>\n",
              "      <td>0.645833</td>\n",
              "    </tr>\n",
              "    <tr>\n",
              "      <th>4</th>\n",
              "      <td>cp-0005.ckpt.index</td>\n",
              "      <td>0.594810</td>\n",
              "      <td>0.726415</td>\n",
              "      <td>0.581363</td>\n",
              "      <td>0.697917</td>\n",
              "    </tr>\n",
              "    <tr>\n",
              "      <th>5</th>\n",
              "      <td>cp-0006.ckpt.index</td>\n",
              "      <td>0.482875</td>\n",
              "      <td>0.820755</td>\n",
              "      <td>0.378614</td>\n",
              "      <td>0.895833</td>\n",
              "    </tr>\n",
              "    <tr>\n",
              "      <th>6</th>\n",
              "      <td>cp-0007.ckpt.index</td>\n",
              "      <td>0.792227</td>\n",
              "      <td>0.632075</td>\n",
              "      <td>0.433888</td>\n",
              "      <td>0.750000</td>\n",
              "    </tr>\n",
              "    <tr>\n",
              "      <th>7</th>\n",
              "      <td>cp-0008.ckpt.index</td>\n",
              "      <td>0.470881</td>\n",
              "      <td>0.811321</td>\n",
              "      <td>0.230166</td>\n",
              "      <td>0.916667</td>\n",
              "    </tr>\n",
              "    <tr>\n",
              "      <th>8</th>\n",
              "      <td>cp-0009.ckpt.index</td>\n",
              "      <td>0.462075</td>\n",
              "      <td>0.773585</td>\n",
              "      <td>0.320287</td>\n",
              "      <td>0.895833</td>\n",
              "    </tr>\n",
              "    <tr>\n",
              "      <th>9</th>\n",
              "      <td>cp-0010.ckpt.index</td>\n",
              "      <td>0.643496</td>\n",
              "      <td>0.641509</td>\n",
              "      <td>0.594657</td>\n",
              "      <td>0.770833</td>\n",
              "    </tr>\n",
              "    <tr>\n",
              "      <th>10</th>\n",
              "      <td>cp-0011.ckpt.index</td>\n",
              "      <td>0.535315</td>\n",
              "      <td>0.811321</td>\n",
              "      <td>0.277075</td>\n",
              "      <td>0.885417</td>\n",
              "    </tr>\n",
              "    <tr>\n",
              "      <th>11</th>\n",
              "      <td>cp-0012.ckpt.index</td>\n",
              "      <td>0.555710</td>\n",
              "      <td>0.783019</td>\n",
              "      <td>0.298701</td>\n",
              "      <td>0.864583</td>\n",
              "    </tr>\n",
              "    <tr>\n",
              "      <th>12</th>\n",
              "      <td>cp-0013.ckpt.index</td>\n",
              "      <td>0.465725</td>\n",
              "      <td>0.839623</td>\n",
              "      <td>0.254357</td>\n",
              "      <td>0.895833</td>\n",
              "    </tr>\n",
              "    <tr>\n",
              "      <th>13</th>\n",
              "      <td>cp-0014.ckpt.index</td>\n",
              "      <td>0.909283</td>\n",
              "      <td>0.688679</td>\n",
              "      <td>0.477742</td>\n",
              "      <td>0.770833</td>\n",
              "    </tr>\n",
              "    <tr>\n",
              "      <th>14</th>\n",
              "      <td>cp-0015.ckpt.index</td>\n",
              "      <td>0.472058</td>\n",
              "      <td>0.773585</td>\n",
              "      <td>0.403992</td>\n",
              "      <td>0.760417</td>\n",
              "    </tr>\n",
              "    <tr>\n",
              "      <th>15</th>\n",
              "      <td>cp-0016.ckpt.index</td>\n",
              "      <td>0.420485</td>\n",
              "      <td>0.820755</td>\n",
              "      <td>0.284610</td>\n",
              "      <td>0.906250</td>\n",
              "    </tr>\n",
              "    <tr>\n",
              "      <th>16</th>\n",
              "      <td>cp-0017.ckpt.index</td>\n",
              "      <td>0.508607</td>\n",
              "      <td>0.783019</td>\n",
              "      <td>0.359276</td>\n",
              "      <td>0.843750</td>\n",
              "    </tr>\n",
              "    <tr>\n",
              "      <th>17</th>\n",
              "      <td>cp-0018.ckpt.index</td>\n",
              "      <td>0.448752</td>\n",
              "      <td>0.839623</td>\n",
              "      <td>0.269497</td>\n",
              "      <td>0.906250</td>\n",
              "    </tr>\n",
              "    <tr>\n",
              "      <th>18</th>\n",
              "      <td>cp-0019.ckpt.index</td>\n",
              "      <td>0.381139</td>\n",
              "      <td>0.801887</td>\n",
              "      <td>0.263937</td>\n",
              "      <td>0.895833</td>\n",
              "    </tr>\n",
              "    <tr>\n",
              "      <th>19</th>\n",
              "      <td>cp-0020.ckpt.index</td>\n",
              "      <td>0.449160</td>\n",
              "      <td>0.830189</td>\n",
              "      <td>0.224170</td>\n",
              "      <td>0.906250</td>\n",
              "    </tr>\n",
              "    <tr>\n",
              "      <th>20</th>\n",
              "      <td>cp-0021.ckpt.index</td>\n",
              "      <td>0.382738</td>\n",
              "      <td>0.830189</td>\n",
              "      <td>0.249307</td>\n",
              "      <td>0.895833</td>\n",
              "    </tr>\n",
              "    <tr>\n",
              "      <th>21</th>\n",
              "      <td>cp-0022.ckpt.index</td>\n",
              "      <td>0.599853</td>\n",
              "      <td>0.783019</td>\n",
              "      <td>0.308287</td>\n",
              "      <td>0.895833</td>\n",
              "    </tr>\n",
              "    <tr>\n",
              "      <th>22</th>\n",
              "      <td>cp-0023.ckpt.index</td>\n",
              "      <td>0.350331</td>\n",
              "      <td>0.820755</td>\n",
              "      <td>0.276737</td>\n",
              "      <td>0.895833</td>\n",
              "    </tr>\n",
              "    <tr>\n",
              "      <th>23</th>\n",
              "      <td>cp-0024.ckpt.index</td>\n",
              "      <td>0.345997</td>\n",
              "      <td>0.867925</td>\n",
              "      <td>0.236139</td>\n",
              "      <td>0.885417</td>\n",
              "    </tr>\n",
              "    <tr>\n",
              "      <th>24</th>\n",
              "      <td>cp-0025.ckpt.index</td>\n",
              "      <td>0.938165</td>\n",
              "      <td>0.688679</td>\n",
              "      <td>0.448959</td>\n",
              "      <td>0.833333</td>\n",
              "    </tr>\n",
              "    <tr>\n",
              "      <th>25</th>\n",
              "      <td>cp-0026.ckpt.index</td>\n",
              "      <td>0.470543</td>\n",
              "      <td>0.858491</td>\n",
              "      <td>0.259905</td>\n",
              "      <td>0.875000</td>\n",
              "    </tr>\n",
              "    <tr>\n",
              "      <th>26</th>\n",
              "      <td>cp-0027.ckpt.index</td>\n",
              "      <td>0.495089</td>\n",
              "      <td>0.745283</td>\n",
              "      <td>0.384951</td>\n",
              "      <td>0.812500</td>\n",
              "    </tr>\n",
              "    <tr>\n",
              "      <th>27</th>\n",
              "      <td>cp-0028.ckpt.index</td>\n",
              "      <td>0.342836</td>\n",
              "      <td>0.839623</td>\n",
              "      <td>0.209368</td>\n",
              "      <td>0.916667</td>\n",
              "    </tr>\n",
              "    <tr>\n",
              "      <th>28</th>\n",
              "      <td>cp-0029.ckpt.index</td>\n",
              "      <td>0.386724</td>\n",
              "      <td>0.849057</td>\n",
              "      <td>0.267830</td>\n",
              "      <td>0.895833</td>\n",
              "    </tr>\n",
              "    <tr>\n",
              "      <th>29</th>\n",
              "      <td>cp-0030.ckpt.index</td>\n",
              "      <td>0.517425</td>\n",
              "      <td>0.820755</td>\n",
              "      <td>0.293376</td>\n",
              "      <td>0.885417</td>\n",
              "    </tr>\n",
              "  </tbody>\n",
              "</table>\n",
              "</div>\n",
              "    <div class=\"colab-df-buttons\">\n",
              "\n",
              "  <div class=\"colab-df-container\">\n",
              "    <button class=\"colab-df-convert\" onclick=\"convertToInteractive('df-0ffa54ea-dd61-4e60-9d6a-98cb943bb9d7')\"\n",
              "            title=\"Convert this dataframe to an interactive table.\"\n",
              "            style=\"display:none;\">\n",
              "\n",
              "  <svg xmlns=\"http://www.w3.org/2000/svg\" height=\"24px\" viewBox=\"0 -960 960 960\">\n",
              "    <path d=\"M120-120v-720h720v720H120Zm60-500h600v-160H180v160Zm220 220h160v-160H400v160Zm0 220h160v-160H400v160ZM180-400h160v-160H180v160Zm440 0h160v-160H620v160ZM180-180h160v-160H180v160Zm440 0h160v-160H620v160Z\"/>\n",
              "  </svg>\n",
              "    </button>\n",
              "\n",
              "  <style>\n",
              "    .colab-df-container {\n",
              "      display:flex;\n",
              "      gap: 12px;\n",
              "    }\n",
              "\n",
              "    .colab-df-convert {\n",
              "      background-color: #E8F0FE;\n",
              "      border: none;\n",
              "      border-radius: 50%;\n",
              "      cursor: pointer;\n",
              "      display: none;\n",
              "      fill: #1967D2;\n",
              "      height: 32px;\n",
              "      padding: 0 0 0 0;\n",
              "      width: 32px;\n",
              "    }\n",
              "\n",
              "    .colab-df-convert:hover {\n",
              "      background-color: #E2EBFA;\n",
              "      box-shadow: 0px 1px 2px rgba(60, 64, 67, 0.3), 0px 1px 3px 1px rgba(60, 64, 67, 0.15);\n",
              "      fill: #174EA6;\n",
              "    }\n",
              "\n",
              "    .colab-df-buttons div {\n",
              "      margin-bottom: 4px;\n",
              "    }\n",
              "\n",
              "    [theme=dark] .colab-df-convert {\n",
              "      background-color: #3B4455;\n",
              "      fill: #D2E3FC;\n",
              "    }\n",
              "\n",
              "    [theme=dark] .colab-df-convert:hover {\n",
              "      background-color: #434B5C;\n",
              "      box-shadow: 0px 1px 3px 1px rgba(0, 0, 0, 0.15);\n",
              "      filter: drop-shadow(0px 1px 2px rgba(0, 0, 0, 0.3));\n",
              "      fill: #FFFFFF;\n",
              "    }\n",
              "  </style>\n",
              "\n",
              "    <script>\n",
              "      const buttonEl =\n",
              "        document.querySelector('#df-0ffa54ea-dd61-4e60-9d6a-98cb943bb9d7 button.colab-df-convert');\n",
              "      buttonEl.style.display =\n",
              "        google.colab.kernel.accessAllowed ? 'block' : 'none';\n",
              "\n",
              "      async function convertToInteractive(key) {\n",
              "        const element = document.querySelector('#df-0ffa54ea-dd61-4e60-9d6a-98cb943bb9d7');\n",
              "        const dataTable =\n",
              "          await google.colab.kernel.invokeFunction('convertToInteractive',\n",
              "                                                    [key], {});\n",
              "        if (!dataTable) return;\n",
              "\n",
              "        const docLinkHtml = 'Like what you see? Visit the ' +\n",
              "          '<a target=\"_blank\" href=https://colab.research.google.com/notebooks/data_table.ipynb>data table notebook</a>'\n",
              "          + ' to learn more about interactive tables.';\n",
              "        element.innerHTML = '';\n",
              "        dataTable['output_type'] = 'display_data';\n",
              "        await google.colab.output.renderOutput(dataTable, element);\n",
              "        const docLink = document.createElement('div');\n",
              "        docLink.innerHTML = docLinkHtml;\n",
              "        element.appendChild(docLink);\n",
              "      }\n",
              "    </script>\n",
              "  </div>\n",
              "\n",
              "\n",
              "<div id=\"df-98a76093-0067-4a59-8341-4c6694260483\">\n",
              "  <button class=\"colab-df-quickchart\" onclick=\"quickchart('df-98a76093-0067-4a59-8341-4c6694260483')\"\n",
              "            title=\"Suggest charts.\"\n",
              "            style=\"display:none;\">\n",
              "\n",
              "<svg xmlns=\"http://www.w3.org/2000/svg\" height=\"24px\"viewBox=\"0 0 24 24\"\n",
              "     width=\"24px\">\n",
              "    <g>\n",
              "        <path d=\"M19 3H5c-1.1 0-2 .9-2 2v14c0 1.1.9 2 2 2h14c1.1 0 2-.9 2-2V5c0-1.1-.9-2-2-2zM9 17H7v-7h2v7zm4 0h-2V7h2v10zm4 0h-2v-4h2v4z\"/>\n",
              "    </g>\n",
              "</svg>\n",
              "  </button>\n",
              "\n",
              "<style>\n",
              "  .colab-df-quickchart {\n",
              "      --bg-color: #E8F0FE;\n",
              "      --fill-color: #1967D2;\n",
              "      --hover-bg-color: #E2EBFA;\n",
              "      --hover-fill-color: #174EA6;\n",
              "      --disabled-fill-color: #AAA;\n",
              "      --disabled-bg-color: #DDD;\n",
              "  }\n",
              "\n",
              "  [theme=dark] .colab-df-quickchart {\n",
              "      --bg-color: #3B4455;\n",
              "      --fill-color: #D2E3FC;\n",
              "      --hover-bg-color: #434B5C;\n",
              "      --hover-fill-color: #FFFFFF;\n",
              "      --disabled-bg-color: #3B4455;\n",
              "      --disabled-fill-color: #666;\n",
              "  }\n",
              "\n",
              "  .colab-df-quickchart {\n",
              "    background-color: var(--bg-color);\n",
              "    border: none;\n",
              "    border-radius: 50%;\n",
              "    cursor: pointer;\n",
              "    display: none;\n",
              "    fill: var(--fill-color);\n",
              "    height: 32px;\n",
              "    padding: 0;\n",
              "    width: 32px;\n",
              "  }\n",
              "\n",
              "  .colab-df-quickchart:hover {\n",
              "    background-color: var(--hover-bg-color);\n",
              "    box-shadow: 0 1px 2px rgba(60, 64, 67, 0.3), 0 1px 3px 1px rgba(60, 64, 67, 0.15);\n",
              "    fill: var(--button-hover-fill-color);\n",
              "  }\n",
              "\n",
              "  .colab-df-quickchart-complete:disabled,\n",
              "  .colab-df-quickchart-complete:disabled:hover {\n",
              "    background-color: var(--disabled-bg-color);\n",
              "    fill: var(--disabled-fill-color);\n",
              "    box-shadow: none;\n",
              "  }\n",
              "\n",
              "  .colab-df-spinner {\n",
              "    border: 2px solid var(--fill-color);\n",
              "    border-color: transparent;\n",
              "    border-bottom-color: var(--fill-color);\n",
              "    animation:\n",
              "      spin 1s steps(1) infinite;\n",
              "  }\n",
              "\n",
              "  @keyframes spin {\n",
              "    0% {\n",
              "      border-color: transparent;\n",
              "      border-bottom-color: var(--fill-color);\n",
              "      border-left-color: var(--fill-color);\n",
              "    }\n",
              "    20% {\n",
              "      border-color: transparent;\n",
              "      border-left-color: var(--fill-color);\n",
              "      border-top-color: var(--fill-color);\n",
              "    }\n",
              "    30% {\n",
              "      border-color: transparent;\n",
              "      border-left-color: var(--fill-color);\n",
              "      border-top-color: var(--fill-color);\n",
              "      border-right-color: var(--fill-color);\n",
              "    }\n",
              "    40% {\n",
              "      border-color: transparent;\n",
              "      border-right-color: var(--fill-color);\n",
              "      border-top-color: var(--fill-color);\n",
              "    }\n",
              "    60% {\n",
              "      border-color: transparent;\n",
              "      border-right-color: var(--fill-color);\n",
              "    }\n",
              "    80% {\n",
              "      border-color: transparent;\n",
              "      border-right-color: var(--fill-color);\n",
              "      border-bottom-color: var(--fill-color);\n",
              "    }\n",
              "    90% {\n",
              "      border-color: transparent;\n",
              "      border-bottom-color: var(--fill-color);\n",
              "    }\n",
              "  }\n",
              "</style>\n",
              "\n",
              "  <script>\n",
              "    async function quickchart(key) {\n",
              "      const quickchartButtonEl =\n",
              "        document.querySelector('#' + key + ' button');\n",
              "      quickchartButtonEl.disabled = true;  // To prevent multiple clicks.\n",
              "      quickchartButtonEl.classList.add('colab-df-spinner');\n",
              "      try {\n",
              "        const charts = await google.colab.kernel.invokeFunction(\n",
              "            'suggestCharts', [key], {});\n",
              "      } catch (error) {\n",
              "        console.error('Error during call to suggestCharts:', error);\n",
              "      }\n",
              "      quickchartButtonEl.classList.remove('colab-df-spinner');\n",
              "      quickchartButtonEl.classList.add('colab-df-quickchart-complete');\n",
              "    }\n",
              "    (() => {\n",
              "      let quickchartButtonEl =\n",
              "        document.querySelector('#df-98a76093-0067-4a59-8341-4c6694260483 button');\n",
              "      quickchartButtonEl.style.display =\n",
              "        google.colab.kernel.accessAllowed ? 'block' : 'none';\n",
              "    })();\n",
              "  </script>\n",
              "</div>\n",
              "    </div>\n",
              "  </div>\n"
            ]
          },
          "metadata": {},
          "execution_count": 65
        }
      ]
    },
    {
      "cell_type": "code",
      "source": [
        "plot_validation_and_test_accuracy(results_df)\n"
      ],
      "metadata": {
        "colab": {
          "base_uri": "https://localhost:8080/",
          "height": 430
        },
        "id": "n9axMN3_sk0v",
        "outputId": "5316f688-cdec-4213-912c-924842fa0035"
      },
      "execution_count": null,
      "outputs": [
        {
          "output_type": "display_data",
          "data": {
            "text/plain": [
              "<Figure size 640x480 with 1 Axes>"
            ],
            "image/png": "[encoded data removed]"
          },
          "metadata": {}
        }
      ]
    },
    {
      "cell_type": "code",
      "source": [
        "# Loading the best set of weights\n",
        "best = r'/content/drive/MyDrive/google colab/data_augmentation_cps/cp-0024.ckpt'\n",
        "model.load_weights(best)\n"
      ],
      "metadata": {
        "colab": {
          "base_uri": "https://localhost:8080/"
        },
        "id": "nbmesacPskwt",
        "outputId": "15217c11-7171-4e80-9cca-6d0fee1a1862"
      },
      "execution_count": 3,
      "outputs": [
        {
          "output_type": "execute_result",
          "data": {
            "text/plain": [
              "<tensorflow.python.checkpoint.checkpoint.CheckpointLoadStatus at 0x789c062bc160>"
            ]
          },
          "metadata": {},
          "execution_count": 3
        }
      ]
    },
    {
      "cell_type": "code",
      "source": [
        "model.save(\"simple_augmented_with_best_weights.h5\")"
      ],
      "metadata": {
        "colab": {
          "base_uri": "https://localhost:8080/"
        },
        "id": "9J5P7jKgsmZs",
        "outputId": "f3beb4a9-ed4b-4c56-b974-20c365480393"
      },
      "execution_count": 4,
      "outputs": [
        {
          "output_type": "stream",
          "name": "stderr",
          "text": [
            "/usr/local/lib/python3.10/dist-packages/keras/src/engine/training.py:3000: UserWarning: You are saving your model as an HDF5 file via `model.save()`. This file format is considered legacy. We recommend using instead the native Keras format, e.g. `model.save('my_model.keras')`.\n",
            "  saving_api.save_model(\n"
          ]
        }
      ]
    },
    {
      "cell_type": "code",
      "source": [
        "# Testing the model on Test Data\n",
        "test_loss, test_acc = model.evaluate(test_generator)\n",
        "print('test acc:', test_acc)\n"
      ],
      "metadata": {
        "colab": {
          "base_uri": "https://localhost:8080/"
        },
        "id": "zb2gGXnesks4",
        "outputId": "debf30c4-1889-41cd-a607-a55b6e48b154"
      },
      "execution_count": null,
      "outputs": [
        {
          "output_type": "stream",
          "name": "stdout",
          "text": [
            "7/7 [==============================] - 1s 137ms/step - loss: 0.2361 - acc: 0.8854\n",
            "test acc: 0.8854166865348816\n"
          ]
        }
      ]
    },
    {
      "cell_type": "markdown",
      "source": [
        "We choose the 21st checkpoint because the overfitting is likely to be less in it.\n",
        "\n",
        "The confusion matrices produced by this checkpoint are better than all of the other checkpoints."
      ],
      "metadata": {
        "id": "dSfmEWxx2GBN"
      }
    },
    {
      "cell_type": "markdown",
      "source": [
        "### Classification Report"
      ],
      "metadata": {
        "id": "45SbNgxY2K24"
      }
    },
    {
      "cell_type": "markdown",
      "source": [
        "#### Undersampling the positive images test split\n",
        "\n",
        "this time I did it without using code (because I am now running the notebok on pc)\n",
        "\n",
        "moved positive189,190,191,192 from test/positive folder to the 'lung cancer dataset/temporary folder'\n"
      ],
      "metadata": {
        "id": "BHZZNUme2QaD"
      }
    },
    {
      "cell_type": "code",
      "source": [
        "# New test generator\n",
        "# from sklearn.metrics import classification_report\n",
        "test_generator       = test_datagen.flow_from_directory(\n",
        "                                                r'/content/drive/MyDrive/Datasets/d_lung_cancer_datatset/train',\n",
        "                                                target_size      =  (200, 200),\n",
        "#                                                batch_size       =  88,\n",
        "                                                batch_size       =  96,\n",
        "                                                class_mode       =  'binary')\n",
        "\n",
        "batch, true_labels         =  next(test_generator)\n",
        "predicted_probabilities    =  model.predict(batch)\n",
        "#predicted_labels = (predicted_probabilities > 0.5).astype(int).reshape(88,1)\n",
        "predicted_labels = (predicted_probabilities > 0.5).astype(int).reshape(96,1)\n",
        "\n",
        "\n",
        "# Generating the classification report\n",
        "report = classification_report(true_labels, predicted_labels)\n",
        "\n",
        "print(report)\n"
      ],
      "metadata": {
        "colab": {
          "base_uri": "https://localhost:8080/"
        },
        "id": "CYMn2I3q15DF",
        "outputId": "9007adac-a2c3-4dbc-c504-4830097eb0bb"
      },
      "execution_count": null,
      "outputs": [
        {
          "output_type": "stream",
          "name": "stdout",
          "text": [
            "Found 320 images belonging to 2 classes.\n",
            "3/3 [==============================] - 0s 15ms/step\n",
            "              precision    recall  f1-score   support\n",
            "\n",
            "         0.0       0.90      0.93      0.92        59\n",
            "         1.0       0.89      0.84      0.86        37\n",
            "\n",
            "    accuracy                           0.90        96\n",
            "   macro avg       0.89      0.89      0.89        96\n",
            "weighted avg       0.90      0.90      0.90        96\n",
            "\n"
          ]
        }
      ]
    },
    {
      "cell_type": "code",
      "source": [
        "# from sklearn.metrics import confusion_matrix\n",
        "\n",
        "conf_matrix = confusion_matrix(true_labels, predicted_labels)\n",
        "plot_confusion_matrix(conf_matrix, class_labels)"
      ],
      "metadata": {
        "colab": {
          "base_uri": "https://localhost:8080/",
          "height": 426
        },
        "id": "oBt0ohQ914_p",
        "outputId": "2d9cff45-acca-422a-e0c1-f9112512a604"
      },
      "execution_count": null,
      "outputs": [
        {
          "output_type": "display_data",
          "data": {
            "text/plain": [
              "<Figure size 600x400 with 2 Axes>"
            ],
            "image/png": "[encoded data removed]"
          },
          "metadata": {}
        }
      ]
    },
    {
      "cell_type": "markdown",
      "source": [
        "# Functional API Format"
      ],
      "metadata": {
        "id": "wQEx53QF4Cb9"
      }
    },
    {
      "cell_type": "code",
      "source": [
        "# from tensorflow.keras import Input\n",
        "# from tensorflow.keras import Model\n",
        "\n",
        "\n",
        "inputs = Input(shape=(200, 200, 3))\n",
        "\n",
        "x = layers.Conv2D(32, (3, 3), activation='relu')(inputs)\n",
        "x = layers.MaxPooling2D((2, 2))(x)\n",
        "x = layers.Conv2D(64, (3, 3), activation='relu')(x)\n",
        "x = layers.MaxPooling2D((2, 2))(x)\n",
        "x = layers.Conv2D(128, (3, 3), activation='relu')(x)\n",
        "x = layers.MaxPooling2D((2, 2))(x)\n",
        "x = layers.Conv2D(128, (3, 3), activation='relu')(x)\n",
        "x = layers.MaxPooling2D((2, 2))(x)\n",
        "\n",
        "x = layers.Flatten()(x)\n",
        "#x = layers.Dropout(0.1)(x)\n",
        "x = layers.Dense(512, activation='relu')(x)\n",
        "outputs = layers.Dense(1, activation='sigmoid')(x)\n",
        "\n",
        "model = Model(inputs=inputs, outputs=outputs)\n",
        "\n",
        "model.summary()\n",
        "\n",
        "optimizer = optimizers.Adam(learning_rate=0.0007)\n",
        "model.compile(loss       =  'binary_crossentropy',\n",
        "              optimizer  =  optimizer,\n",
        "              metrics    =  ['acc'])\n"
      ],
      "metadata": {
        "colab": {
          "base_uri": "https://localhost:8080/"
        },
        "id": "Ci6OrtXO4BnP",
        "outputId": "9c0c31ab-6860-454e-d26f-5fb86bae4e09"
      },
      "execution_count": null,
      "outputs": [
        {
          "output_type": "stream",
          "name": "stdout",
          "text": [
            "Model: \"model_1\"\n",
            "_________________________________________________________________\n",
            " Layer (type)                Output Shape              Param #   \n",
            "=================================================================\n",
            " input_2 (InputLayer)        [(None, 200, 200, 3)]     0         \n",
            "                                                                 \n",
            " conv2d_16 (Conv2D)          (None, 198, 198, 32)      896       \n",
            "                                                                 \n",
            " max_pooling2d_16 (MaxPooli  (None, 99, 99, 32)        0         \n",
            " ng2D)                                                           \n",
            "                                                                 \n",
            " conv2d_17 (Conv2D)          (None, 97, 97, 64)        18496     \n",
            "                                                                 \n",
            " max_pooling2d_17 (MaxPooli  (None, 48, 48, 64)        0         \n",
            " ng2D)                                                           \n",
            "                                                                 \n",
            " conv2d_18 (Conv2D)          (None, 46, 46, 128)       73856     \n",
            "                                                                 \n",
            " max_pooling2d_18 (MaxPooli  (None, 23, 23, 128)       0         \n",
            " ng2D)                                                           \n",
            "                                                                 \n",
            " conv2d_19 (Conv2D)          (None, 21, 21, 128)       147584    \n",
            "                                                                 \n",
            " max_pooling2d_19 (MaxPooli  (None, 10, 10, 128)       0         \n",
            " ng2D)                                                           \n",
            "                                                                 \n",
            " flatten_4 (Flatten)         (None, 12800)             0         \n",
            "                                                                 \n",
            " dense_8 (Dense)             (None, 512)               6554112   \n",
            "                                                                 \n",
            " dense_9 (Dense)             (None, 1)                 513       \n",
            "                                                                 \n",
            "=================================================================\n",
            "Total params: 6795457 (25.92 MB)\n",
            "Trainable params: 6795457 (25.92 MB)\n",
            "Non-trainable params: 0 (0.00 Byte)\n",
            "_________________________________________________________________\n"
          ]
        }
      ]
    },
    {
      "cell_type": "code",
      "source": [
        "# import tensorflow as tf\n",
        "# from tensorflow.keras import callbacks\n",
        "\n",
        "# The sets-of-weights at d/f epochs will have d/f names\n",
        "checkpoint_path = r'/content/drive/MyDrive/google colab/functional_api_cps\\cp-{epoch:04d}.ckpt'\n",
        "\n",
        "# converting it into a directory\n",
        "checkpoint_dir  = os.path.dirname(checkpoint_path)\n",
        "\n",
        "cp_callback = callbacks.ModelCheckpoint(checkpoint_path, verbose = 1, save_weights_only = True)\n",
        "\n",
        "# For details and much more, see this official video from tensorflow\n",
        "# https://www.youtube.com/watch?v=HxtBIwfy0kM\n"
      ],
      "metadata": {
        "id": "COgvH_2W4Bjp"
      },
      "execution_count": null,
      "outputs": []
    },
    {
      "cell_type": "code",
      "source": [
        "history = model.fit(train_generator,\n",
        "                    epochs            =  30,\n",
        "                    validation_data   =  validation_generator,\n",
        "                    callbacks         =  cp_callback\n",
        "                  )\n"
      ],
      "metadata": {
        "colab": {
          "base_uri": "https://localhost:8080/"
        },
        "id": "UOGnrZkH4BgA",
        "outputId": "f39c8f1c-6383-481e-b6c5-773b7d031e92"
      },
      "execution_count": null,
      "outputs": [
        {
          "output_type": "stream",
          "name": "stdout",
          "text": [
            "Epoch 1/30\n",
            "22/22 [==============================] - ETA: 0s - loss: 0.7134 - acc: 0.5000\n",
            "Epoch 1: saving model to /content/drive/MyDrive/google colab/functional_api_cps\\cp-0001.ckpt\n",
            "22/22 [==============================] - 10s 325ms/step - loss: 0.7134 - acc: 0.5000 - val_loss: 0.6879 - val_acc: 0.5660\n",
            "Epoch 2/30\n",
            "22/22 [==============================] - ETA: 0s - loss: 0.6729 - acc: 0.5813\n",
            "Epoch 2: saving model to /content/drive/MyDrive/google colab/functional_api_cps\\cp-0002.ckpt\n",
            "22/22 [==============================] - 9s 390ms/step - loss: 0.6729 - acc: 0.5813 - val_loss: 0.6052 - val_acc: 0.6981\n",
            "Epoch 3/30\n",
            "22/22 [==============================] - ETA: 0s - loss: 0.6350 - acc: 0.6625\n",
            "Epoch 3: saving model to /content/drive/MyDrive/google colab/functional_api_cps\\cp-0003.ckpt\n",
            "22/22 [==============================] - 11s 502ms/step - loss: 0.6350 - acc: 0.6625 - val_loss: 0.6459 - val_acc: 0.6132\n",
            "Epoch 4/30\n",
            "22/22 [==============================] - ETA: 0s - loss: 0.5734 - acc: 0.6812\n",
            "Epoch 4: saving model to /content/drive/MyDrive/google colab/functional_api_cps\\cp-0004.ckpt\n",
            "22/22 [==============================] - 8s 357ms/step - loss: 0.5734 - acc: 0.6812 - val_loss: 0.5336 - val_acc: 0.7264\n",
            "Epoch 5/30\n",
            "22/22 [==============================] - ETA: 0s - loss: 0.4864 - acc: 0.7688\n",
            "Epoch 5: saving model to /content/drive/MyDrive/google colab/functional_api_cps\\cp-0005.ckpt\n",
            "22/22 [==============================] - 9s 417ms/step - loss: 0.4864 - acc: 0.7688 - val_loss: 0.4043 - val_acc: 0.8019\n",
            "Epoch 6/30\n",
            "22/22 [==============================] - ETA: 0s - loss: 0.5304 - acc: 0.7719\n",
            "Epoch 6: saving model to /content/drive/MyDrive/google colab/functional_api_cps\\cp-0006.ckpt\n",
            "22/22 [==============================] - 9s 423ms/step - loss: 0.5304 - acc: 0.7719 - val_loss: 0.6288 - val_acc: 0.6509\n",
            "Epoch 7/30\n",
            "22/22 [==============================] - ETA: 0s - loss: 0.5382 - acc: 0.7500\n",
            "Epoch 7: saving model to /content/drive/MyDrive/google colab/functional_api_cps\\cp-0007.ckpt\n",
            "22/22 [==============================] - 7s 317ms/step - loss: 0.5382 - acc: 0.7500 - val_loss: 0.5233 - val_acc: 0.7547\n",
            "Epoch 8/30\n",
            "22/22 [==============================] - ETA: 0s - loss: 0.4458 - acc: 0.8031\n",
            "Epoch 8: saving model to /content/drive/MyDrive/google colab/functional_api_cps\\cp-0008.ckpt\n",
            "22/22 [==============================] - 10s 471ms/step - loss: 0.4458 - acc: 0.8031 - val_loss: 0.5177 - val_acc: 0.7547\n",
            "Epoch 9/30\n",
            "22/22 [==============================] - ETA: 0s - loss: 0.4289 - acc: 0.8156\n",
            "Epoch 9: saving model to /content/drive/MyDrive/google colab/functional_api_cps\\cp-0009.ckpt\n",
            "22/22 [==============================] - 7s 328ms/step - loss: 0.4289 - acc: 0.8156 - val_loss: 0.7664 - val_acc: 0.5849\n",
            "Epoch 10/30\n",
            "22/22 [==============================] - ETA: 0s - loss: 0.4247 - acc: 0.8375\n",
            "Epoch 10: saving model to /content/drive/MyDrive/google colab/functional_api_cps\\cp-0010.ckpt\n",
            "22/22 [==============================] - 9s 423ms/step - loss: 0.4247 - acc: 0.8375 - val_loss: 0.4352 - val_acc: 0.7830\n",
            "Epoch 11/30\n",
            "22/22 [==============================] - ETA: 0s - loss: 0.4646 - acc: 0.7812\n",
            "Epoch 11: saving model to /content/drive/MyDrive/google colab/functional_api_cps\\cp-0011.ckpt\n",
            "22/22 [==============================] - 8s 368ms/step - loss: 0.4646 - acc: 0.7812 - val_loss: 0.4450 - val_acc: 0.8113\n",
            "Epoch 12/30\n",
            "22/22 [==============================] - ETA: 0s - loss: 0.3950 - acc: 0.8406\n",
            "Epoch 12: saving model to /content/drive/MyDrive/google colab/functional_api_cps\\cp-0012.ckpt\n",
            "22/22 [==============================] - 7s 334ms/step - loss: 0.3950 - acc: 0.8406 - val_loss: 0.8221 - val_acc: 0.6792\n",
            "Epoch 13/30\n",
            "22/22 [==============================] - ETA: 0s - loss: 0.3598 - acc: 0.8281\n",
            "Epoch 13: saving model to /content/drive/MyDrive/google colab/functional_api_cps\\cp-0013.ckpt\n",
            "22/22 [==============================] - 12s 546ms/step - loss: 0.3598 - acc: 0.8281 - val_loss: 0.4329 - val_acc: 0.7925\n",
            "Epoch 14/30\n",
            "22/22 [==============================] - ETA: 0s - loss: 0.3819 - acc: 0.8344\n",
            "Epoch 14: saving model to /content/drive/MyDrive/google colab/functional_api_cps\\cp-0014.ckpt\n",
            "22/22 [==============================] - 9s 412ms/step - loss: 0.3819 - acc: 0.8344 - val_loss: 0.3581 - val_acc: 0.8208\n",
            "Epoch 15/30\n",
            "22/22 [==============================] - ETA: 0s - loss: 0.3709 - acc: 0.8500\n",
            "Epoch 15: saving model to /content/drive/MyDrive/google colab/functional_api_cps\\cp-0015.ckpt\n",
            "22/22 [==============================] - 7s 323ms/step - loss: 0.3709 - acc: 0.8500 - val_loss: 0.6760 - val_acc: 0.6887\n",
            "Epoch 16/30\n",
            "22/22 [==============================] - ETA: 0s - loss: 0.4176 - acc: 0.7969\n",
            "Epoch 16: saving model to /content/drive/MyDrive/google colab/functional_api_cps\\cp-0016.ckpt\n",
            "22/22 [==============================] - 7s 333ms/step - loss: 0.4176 - acc: 0.7969 - val_loss: 0.4068 - val_acc: 0.7925\n",
            "Epoch 17/30\n",
            "22/22 [==============================] - ETA: 0s - loss: 0.3383 - acc: 0.8656\n",
            "Epoch 17: saving model to /content/drive/MyDrive/google colab/functional_api_cps\\cp-0017.ckpt\n",
            "22/22 [==============================] - 9s 414ms/step - loss: 0.3383 - acc: 0.8656 - val_loss: 0.3871 - val_acc: 0.8585\n",
            "Epoch 18/30\n",
            "22/22 [==============================] - ETA: 0s - loss: 0.3194 - acc: 0.8750\n",
            "Epoch 18: saving model to /content/drive/MyDrive/google colab/functional_api_cps\\cp-0018.ckpt\n",
            "22/22 [==============================] - 8s 380ms/step - loss: 0.3194 - acc: 0.8750 - val_loss: 0.3447 - val_acc: 0.8491\n",
            "Epoch 19/30\n",
            "22/22 [==============================] - ETA: 0s - loss: 0.3445 - acc: 0.8375\n",
            "Epoch 19: saving model to /content/drive/MyDrive/google colab/functional_api_cps\\cp-0019.ckpt\n",
            "22/22 [==============================] - 8s 349ms/step - loss: 0.3445 - acc: 0.8375 - val_loss: 0.3910 - val_acc: 0.8396\n",
            "Epoch 20/30\n",
            "22/22 [==============================] - ETA: 0s - loss: 0.3086 - acc: 0.8687\n",
            "Epoch 20: saving model to /content/drive/MyDrive/google colab/functional_api_cps\\cp-0020.ckpt\n",
            "22/22 [==============================] - 9s 407ms/step - loss: 0.3086 - acc: 0.8687 - val_loss: 0.4710 - val_acc: 0.7925\n",
            "Epoch 21/30\n",
            "22/22 [==============================] - ETA: 0s - loss: 0.3049 - acc: 0.8625\n",
            "Epoch 21: saving model to /content/drive/MyDrive/google colab/functional_api_cps\\cp-0021.ckpt\n",
            "22/22 [==============================] - 10s 453ms/step - loss: 0.3049 - acc: 0.8625 - val_loss: 0.3267 - val_acc: 0.8302\n",
            "Epoch 22/30\n",
            "22/22 [==============================] - ETA: 0s - loss: 0.3489 - acc: 0.8438\n",
            "Epoch 22: saving model to /content/drive/MyDrive/google colab/functional_api_cps\\cp-0022.ckpt\n",
            "22/22 [==============================] - 11s 483ms/step - loss: 0.3489 - acc: 0.8438 - val_loss: 0.3255 - val_acc: 0.8585\n",
            "Epoch 23/30\n",
            "22/22 [==============================] - ETA: 0s - loss: 0.3566 - acc: 0.8594\n",
            "Epoch 23: saving model to /content/drive/MyDrive/google colab/functional_api_cps\\cp-0023.ckpt\n",
            "22/22 [==============================] - 9s 422ms/step - loss: 0.3566 - acc: 0.8594 - val_loss: 0.3019 - val_acc: 0.8679\n",
            "Epoch 24/30\n",
            "22/22 [==============================] - ETA: 0s - loss: 0.2989 - acc: 0.8719\n",
            "Epoch 24: saving model to /content/drive/MyDrive/google colab/functional_api_cps\\cp-0024.ckpt\n",
            "22/22 [==============================] - 13s 579ms/step - loss: 0.2989 - acc: 0.8719 - val_loss: 0.3406 - val_acc: 0.8679\n",
            "Epoch 25/30\n",
            "22/22 [==============================] - ETA: 0s - loss: 0.3376 - acc: 0.8469\n",
            "Epoch 25: saving model to /content/drive/MyDrive/google colab/functional_api_cps\\cp-0025.ckpt\n",
            "22/22 [==============================] - 7s 321ms/step - loss: 0.3376 - acc: 0.8469 - val_loss: 0.4245 - val_acc: 0.7925\n",
            "Epoch 26/30\n",
            "22/22 [==============================] - ETA: 0s - loss: 0.3235 - acc: 0.8656\n",
            "Epoch 26: saving model to /content/drive/MyDrive/google colab/functional_api_cps\\cp-0026.ckpt\n",
            "22/22 [==============================] - 9s 433ms/step - loss: 0.3235 - acc: 0.8656 - val_loss: 0.3173 - val_acc: 0.8679\n",
            "Epoch 27/30\n",
            "22/22 [==============================] - ETA: 0s - loss: 0.2954 - acc: 0.8719\n",
            "Epoch 27: saving model to /content/drive/MyDrive/google colab/functional_api_cps\\cp-0027.ckpt\n",
            "22/22 [==============================] - 9s 430ms/step - loss: 0.2954 - acc: 0.8719 - val_loss: 0.3252 - val_acc: 0.8679\n",
            "Epoch 28/30\n",
            "22/22 [==============================] - ETA: 0s - loss: 0.3047 - acc: 0.8719\n",
            "Epoch 28: saving model to /content/drive/MyDrive/google colab/functional_api_cps\\cp-0028.ckpt\n",
            "22/22 [==============================] - 10s 438ms/step - loss: 0.3047 - acc: 0.8719 - val_loss: 0.3973 - val_acc: 0.8208\n",
            "Epoch 29/30\n",
            "22/22 [==============================] - ETA: 0s - loss: 0.2675 - acc: 0.8813\n",
            "Epoch 29: saving model to /content/drive/MyDrive/google colab/functional_api_cps\\cp-0029.ckpt\n",
            "22/22 [==============================] - 9s 431ms/step - loss: 0.2675 - acc: 0.8813 - val_loss: 0.2760 - val_acc: 0.8962\n",
            "Epoch 30/30\n",
            "22/22 [==============================] - ETA: 0s - loss: 0.2858 - acc: 0.8875\n",
            "Epoch 30: saving model to /content/drive/MyDrive/google colab/functional_api_cps\\cp-0030.ckpt\n",
            "22/22 [==============================] - 8s 354ms/step - loss: 0.2858 - acc: 0.8875 - val_loss: 0.4461 - val_acc: 0.8208\n"
          ]
        }
      ]
    },
    {
      "cell_type": "code",
      "source": [
        "#D:\\Career\\Artificial Intelligence\\PIAIC\\Artificial Intelligence Engineering\\Q3\\Assignments\\Lungs Cancer\\functional_api_cps\\cp-0023.ckpt\n",
        "model.save('lung_cancer_simple_functional.h5')"
      ],
      "metadata": {
        "colab": {
          "base_uri": "https://localhost:8080/"
        },
        "id": "v0H1lmvZ144L",
        "outputId": "9b98498a-2bd1-464a-e024-b28202f121e6"
      },
      "execution_count": null,
      "outputs": [
        {
          "output_type": "stream",
          "name": "stderr",
          "text": [
            "/usr/local/lib/python3.10/dist-packages/keras/src/engine/training.py:3000: UserWarning: You are saving your model as an HDF5 file via `model.save()`. This file format is considered legacy. We recommend using instead the native Keras format, e.g. `model.save('my_model.keras')`.\n",
            "  saving_api.save_model(\n"
          ]
        }
      ]
    },
    {
      "cell_type": "code",
      "source": [
        "plot_training_history(history)"
      ],
      "metadata": {
        "colab": {
          "base_uri": "https://localhost:8080/",
          "height": 887
        },
        "id": "RkSoQbQ84rgD",
        "outputId": "a31293ef-7d71-436e-938e-a4b560659fe9"
      },
      "execution_count": null,
      "outputs": [
        {
          "output_type": "display_data",
          "data": {
            "text/plain": [
              "<Figure size 640x480 with 1 Axes>"
            ],
            "image/png": "[encoded data removed]"
          },
          "metadata": {}
        },
        {
          "output_type": "display_data",
          "data": {
            "text/plain": [
              "<Figure size 640x480 with 1 Axes>"
            ],
            "image/png": "[encoded data removed]"
          },
          "metadata": {}
        }
      ]
    },
    {
      "cell_type": "code",
      "source": [
        "if __name__ == \"__main__\":\n",
        "    checkpoint_folder = r\"/content/drive/MyDrive/google colab/functional_api_cps\"\n",
        "\n",
        "    # Load your pre-built model here\n",
        "    model = load_model('lung_cancer_simple_functional.h5')  # Replace with the path to your model\n",
        "\n",
        "\n",
        "    test_generator       = test_generator\n",
        "    validation_generator = validation_generator\n",
        "\n",
        "    results_df = evaluate_checkpoints(checkpoint_folder, model, test_generator, validation_generator)\n",
        "    results_df\n"
      ],
      "metadata": {
        "id": "hmDuDhHy4rD1"
      },
      "execution_count": null,
      "outputs": []
    },
    {
      "cell_type": "code",
      "source": [
        "results_df.sort_values(by=\"Checkpoint\", ascending=True)\n"
      ],
      "metadata": {
        "colab": {
          "base_uri": "https://localhost:8080/",
          "height": 389
        },
        "id": "5VzLPVLD4qk6",
        "outputId": "c5369ad6-7d0b-41a8-8a9a-b08e6c5fc603"
      },
      "execution_count": null,
      "outputs": [
        {
          "output_type": "error",
          "ename": "KeyError",
          "evalue": "ignored",
          "traceback": [
            "\u001b[0;31m---------------------------------------------------------------------------\u001b[0m",
            "\u001b[0;31mKeyError\u001b[0m                                  Traceback (most recent call last)",
            "\u001b[0;32m<ipython-input-85-afa18cba9ed9>\u001b[0m in \u001b[0;36m<cell line: 1>\u001b[0;34m()\u001b[0m\n\u001b[0;32m----> 1\u001b[0;31m \u001b[0mresults_df\u001b[0m\u001b[0;34m.\u001b[0m\u001b[0msort_values\u001b[0m\u001b[0;34m(\u001b[0m\u001b[0mby\u001b[0m\u001b[0;34m=\u001b[0m\u001b[0;34m\"Checkpoint\"\u001b[0m\u001b[0;34m,\u001b[0m \u001b[0mascending\u001b[0m\u001b[0;34m=\u001b[0m\u001b[0;32mTrue\u001b[0m\u001b[0;34m)\u001b[0m\u001b[0;34m\u001b[0m\u001b[0;34m\u001b[0m\u001b[0m\n\u001b[0m",
            "\u001b[0;32m/usr/local/lib/python3.10/dist-packages/pandas/util/_decorators.py\u001b[0m in \u001b[0;36mwrapper\u001b[0;34m(*args, **kwargs)\u001b[0m\n\u001b[1;32m    329\u001b[0m                     \u001b[0mstacklevel\u001b[0m\u001b[0;34m=\u001b[0m\u001b[0mfind_stack_level\u001b[0m\u001b[0;34m(\u001b[0m\u001b[0;34m)\u001b[0m\u001b[0;34m,\u001b[0m\u001b[0;34m\u001b[0m\u001b[0;34m\u001b[0m\u001b[0m\n\u001b[1;32m    330\u001b[0m                 )\n\u001b[0;32m--> 331\u001b[0;31m             \u001b[0;32mreturn\u001b[0m \u001b[0mfunc\u001b[0m\u001b[0;34m(\u001b[0m\u001b[0;34m*\u001b[0m\u001b[0margs\u001b[0m\u001b[0;34m,\u001b[0m \u001b[0;34m**\u001b[0m\u001b[0mkwargs\u001b[0m\u001b[0;34m)\u001b[0m\u001b[0;34m\u001b[0m\u001b[0;34m\u001b[0m\u001b[0m\n\u001b[0m\u001b[1;32m    332\u001b[0m \u001b[0;34m\u001b[0m\u001b[0m\n\u001b[1;32m    333\u001b[0m         \u001b[0;31m# error: \"Callable[[VarArg(Any), KwArg(Any)], Any]\" has no\u001b[0m\u001b[0;34m\u001b[0m\u001b[0;34m\u001b[0m\u001b[0m\n",
            "\u001b[0;32m/usr/local/lib/python3.10/dist-packages/pandas/core/frame.py\u001b[0m in \u001b[0;36msort_values\u001b[0;34m(self, by, axis, ascending, inplace, kind, na_position, ignore_index, key)\u001b[0m\n\u001b[1;32m   6910\u001b[0m \u001b[0;34m\u001b[0m\u001b[0m\n\u001b[1;32m   6911\u001b[0m             \u001b[0mby\u001b[0m \u001b[0;34m=\u001b[0m \u001b[0mby\u001b[0m\u001b[0;34m[\u001b[0m\u001b[0;36m0\u001b[0m\u001b[0;34m]\u001b[0m\u001b[0;34m\u001b[0m\u001b[0;34m\u001b[0m\u001b[0m\n\u001b[0;32m-> 6912\u001b[0;31m             \u001b[0mk\u001b[0m \u001b[0;34m=\u001b[0m \u001b[0mself\u001b[0m\u001b[0;34m.\u001b[0m\u001b[0m_get_label_or_level_values\u001b[0m\u001b[0;34m(\u001b[0m\u001b[0mby\u001b[0m\u001b[0;34m,\u001b[0m \u001b[0maxis\u001b[0m\u001b[0;34m=\u001b[0m\u001b[0maxis\u001b[0m\u001b[0;34m)\u001b[0m\u001b[0;34m\u001b[0m\u001b[0;34m\u001b[0m\u001b[0m\n\u001b[0m\u001b[1;32m   6913\u001b[0m \u001b[0;34m\u001b[0m\u001b[0m\n\u001b[1;32m   6914\u001b[0m             \u001b[0;31m# need to rewrap column in Series to apply key function\u001b[0m\u001b[0;34m\u001b[0m\u001b[0;34m\u001b[0m\u001b[0m\n",
            "\u001b[0;32m/usr/local/lib/python3.10/dist-packages/pandas/core/generic.py\u001b[0m in \u001b[0;36m_get_label_or_level_values\u001b[0;34m(self, key, axis)\u001b[0m\n\u001b[1;32m   1848\u001b[0m             )\n\u001b[1;32m   1849\u001b[0m         \u001b[0;32melse\u001b[0m\u001b[0;34m:\u001b[0m\u001b[0;34m\u001b[0m\u001b[0;34m\u001b[0m\u001b[0m\n\u001b[0;32m-> 1850\u001b[0;31m             \u001b[0;32mraise\u001b[0m \u001b[0mKeyError\u001b[0m\u001b[0;34m(\u001b[0m\u001b[0mkey\u001b[0m\u001b[0;34m)\u001b[0m\u001b[0;34m\u001b[0m\u001b[0;34m\u001b[0m\u001b[0m\n\u001b[0m\u001b[1;32m   1851\u001b[0m \u001b[0;34m\u001b[0m\u001b[0m\n\u001b[1;32m   1852\u001b[0m         \u001b[0;31m# Check for duplicates\u001b[0m\u001b[0;34m\u001b[0m\u001b[0;34m\u001b[0m\u001b[0m\n",
            "\u001b[0;31mKeyError\u001b[0m: 'Checkpoint'"
          ]
        }
      ]
    },
    {
      "cell_type": "code",
      "source": [
        "plot_validation_and_test_accuracy(results_df)"
      ],
      "metadata": {
        "colab": {
          "base_uri": "https://localhost:8080/",
          "height": 683
        },
        "id": "q8Q9TUU962Mb",
        "outputId": "1553aebc-ecbe-4618-e531-e311ab8fa8d6"
      },
      "execution_count": null,
      "outputs": [
        {
          "output_type": "error",
          "ename": "KeyError",
          "evalue": "ignored",
          "traceback": [
            "\u001b[0;31m---------------------------------------------------------------------------\u001b[0m",
            "\u001b[0;31mKeyError\u001b[0m                                  Traceback (most recent call last)",
            "\u001b[0;32m/usr/local/lib/python3.10/dist-packages/pandas/core/indexes/base.py\u001b[0m in \u001b[0;36mget_loc\u001b[0;34m(self, key, method, tolerance)\u001b[0m\n\u001b[1;32m   3801\u001b[0m             \u001b[0;32mtry\u001b[0m\u001b[0;34m:\u001b[0m\u001b[0;34m\u001b[0m\u001b[0;34m\u001b[0m\u001b[0m\n\u001b[0;32m-> 3802\u001b[0;31m                 \u001b[0;32mreturn\u001b[0m \u001b[0mself\u001b[0m\u001b[0;34m.\u001b[0m\u001b[0m_engine\u001b[0m\u001b[0;34m.\u001b[0m\u001b[0mget_loc\u001b[0m\u001b[0;34m(\u001b[0m\u001b[0mcasted_key\u001b[0m\u001b[0;34m)\u001b[0m\u001b[0;34m\u001b[0m\u001b[0;34m\u001b[0m\u001b[0m\n\u001b[0m\u001b[1;32m   3803\u001b[0m             \u001b[0;32mexcept\u001b[0m \u001b[0mKeyError\u001b[0m \u001b[0;32mas\u001b[0m \u001b[0merr\u001b[0m\u001b[0;34m:\u001b[0m\u001b[0;34m\u001b[0m\u001b[0;34m\u001b[0m\u001b[0m\n",
            "\u001b[0;32m/usr/local/lib/python3.10/dist-packages/pandas/_libs/index.pyx\u001b[0m in \u001b[0;36mpandas._libs.index.IndexEngine.get_loc\u001b[0;34m()\u001b[0m\n",
            "\u001b[0;32m/usr/local/lib/python3.10/dist-packages/pandas/_libs/index.pyx\u001b[0m in \u001b[0;36mpandas._libs.index.IndexEngine.get_loc\u001b[0;34m()\u001b[0m\n",
            "\u001b[0;32mpandas/_libs/hashtable_class_helper.pxi\u001b[0m in \u001b[0;36mpandas._libs.hashtable.PyObjectHashTable.get_item\u001b[0;34m()\u001b[0m\n",
            "\u001b[0;32mpandas/_libs/hashtable_class_helper.pxi\u001b[0m in \u001b[0;36mpandas._libs.hashtable.PyObjectHashTable.get_item\u001b[0;34m()\u001b[0m\n",
            "\u001b[0;31mKeyError\u001b[0m: 'Validation Accuracy'",
            "\nThe above exception was the direct cause of the following exception:\n",
            "\u001b[0;31mKeyError\u001b[0m                                  Traceback (most recent call last)",
            "\u001b[0;32m<ipython-input-86-c0653afcd6b1>\u001b[0m in \u001b[0;36m<cell line: 1>\u001b[0;34m()\u001b[0m\n\u001b[0;32m----> 1\u001b[0;31m \u001b[0mplot_validation_and_test_accuracy\u001b[0m\u001b[0;34m(\u001b[0m\u001b[0mresults_df\u001b[0m\u001b[0;34m)\u001b[0m\u001b[0;34m\u001b[0m\u001b[0;34m\u001b[0m\u001b[0m\n\u001b[0m",
            "\u001b[0;32m<ipython-input-24-aaecf71afc7e>\u001b[0m in \u001b[0;36mplot_validation_and_test_accuracy\u001b[0;34m(results_df)\u001b[0m\n\u001b[1;32m     11\u001b[0m         \u001b[0;32mNone\u001b[0m\u001b[0;34m\u001b[0m\u001b[0;34m\u001b[0m\u001b[0m\n\u001b[1;32m     12\u001b[0m     \"\"\"\n\u001b[0;32m---> 13\u001b[0;31m     \u001b[0mplt\u001b[0m\u001b[0;34m.\u001b[0m\u001b[0mplot\u001b[0m\u001b[0;34m(\u001b[0m\u001b[0mrange\u001b[0m\u001b[0;34m(\u001b[0m\u001b[0;36m30\u001b[0m\u001b[0;34m)\u001b[0m\u001b[0;34m,\u001b[0m \u001b[0mresults_df\u001b[0m\u001b[0;34m[\u001b[0m\u001b[0;34m'Validation Accuracy'\u001b[0m\u001b[0;34m]\u001b[0m\u001b[0;34m,\u001b[0m \u001b[0;34m'b'\u001b[0m\u001b[0;34m,\u001b[0m \u001b[0mlabel\u001b[0m\u001b[0;34m=\u001b[0m\u001b[0;34m'Validation acc'\u001b[0m\u001b[0;34m)\u001b[0m\u001b[0;34m\u001b[0m\u001b[0;34m\u001b[0m\u001b[0m\n\u001b[0m\u001b[1;32m     14\u001b[0m     \u001b[0mplt\u001b[0m\u001b[0;34m.\u001b[0m\u001b[0mplot\u001b[0m\u001b[0;34m(\u001b[0m\u001b[0mrange\u001b[0m\u001b[0;34m(\u001b[0m\u001b[0;36m30\u001b[0m\u001b[0;34m)\u001b[0m\u001b[0;34m,\u001b[0m \u001b[0mresults_df\u001b[0m\u001b[0;34m[\u001b[0m\u001b[0;34m'Test Accuracy'\u001b[0m\u001b[0;34m]\u001b[0m\u001b[0;34m,\u001b[0m \u001b[0;34m'r'\u001b[0m\u001b[0;34m,\u001b[0m \u001b[0mlabel\u001b[0m\u001b[0;34m=\u001b[0m\u001b[0;34m'Test acc'\u001b[0m\u001b[0;34m)\u001b[0m\u001b[0;34m\u001b[0m\u001b[0;34m\u001b[0m\u001b[0m\n\u001b[1;32m     15\u001b[0m     \u001b[0mplt\u001b[0m\u001b[0;34m.\u001b[0m\u001b[0mlegend\u001b[0m\u001b[0;34m(\u001b[0m\u001b[0;34m)\u001b[0m\u001b[0;34m\u001b[0m\u001b[0;34m\u001b[0m\u001b[0m\n",
            "\u001b[0;32m/usr/local/lib/python3.10/dist-packages/pandas/core/frame.py\u001b[0m in \u001b[0;36m__getitem__\u001b[0;34m(self, key)\u001b[0m\n\u001b[1;32m   3805\u001b[0m             \u001b[0;32mif\u001b[0m \u001b[0mself\u001b[0m\u001b[0;34m.\u001b[0m\u001b[0mcolumns\u001b[0m\u001b[0;34m.\u001b[0m\u001b[0mnlevels\u001b[0m \u001b[0;34m>\u001b[0m \u001b[0;36m1\u001b[0m\u001b[0;34m:\u001b[0m\u001b[0;34m\u001b[0m\u001b[0;34m\u001b[0m\u001b[0m\n\u001b[1;32m   3806\u001b[0m                 \u001b[0;32mreturn\u001b[0m \u001b[0mself\u001b[0m\u001b[0;34m.\u001b[0m\u001b[0m_getitem_multilevel\u001b[0m\u001b[0;34m(\u001b[0m\u001b[0mkey\u001b[0m\u001b[0;34m)\u001b[0m\u001b[0;34m\u001b[0m\u001b[0;34m\u001b[0m\u001b[0m\n\u001b[0;32m-> 3807\u001b[0;31m             \u001b[0mindexer\u001b[0m \u001b[0;34m=\u001b[0m \u001b[0mself\u001b[0m\u001b[0;34m.\u001b[0m\u001b[0mcolumns\u001b[0m\u001b[0;34m.\u001b[0m\u001b[0mget_loc\u001b[0m\u001b[0;34m(\u001b[0m\u001b[0mkey\u001b[0m\u001b[0;34m)\u001b[0m\u001b[0;34m\u001b[0m\u001b[0;34m\u001b[0m\u001b[0m\n\u001b[0m\u001b[1;32m   3808\u001b[0m             \u001b[0;32mif\u001b[0m \u001b[0mis_integer\u001b[0m\u001b[0;34m(\u001b[0m\u001b[0mindexer\u001b[0m\u001b[0;34m)\u001b[0m\u001b[0;34m:\u001b[0m\u001b[0;34m\u001b[0m\u001b[0;34m\u001b[0m\u001b[0m\n\u001b[1;32m   3809\u001b[0m                 \u001b[0mindexer\u001b[0m \u001b[0;34m=\u001b[0m \u001b[0;34m[\u001b[0m\u001b[0mindexer\u001b[0m\u001b[0;34m]\u001b[0m\u001b[0;34m\u001b[0m\u001b[0;34m\u001b[0m\u001b[0m\n",
            "\u001b[0;32m/usr/local/lib/python3.10/dist-packages/pandas/core/indexes/base.py\u001b[0m in \u001b[0;36mget_loc\u001b[0;34m(self, key, method, tolerance)\u001b[0m\n\u001b[1;32m   3802\u001b[0m                 \u001b[0;32mreturn\u001b[0m \u001b[0mself\u001b[0m\u001b[0;34m.\u001b[0m\u001b[0m_engine\u001b[0m\u001b[0;34m.\u001b[0m\u001b[0mget_loc\u001b[0m\u001b[0;34m(\u001b[0m\u001b[0mcasted_key\u001b[0m\u001b[0;34m)\u001b[0m\u001b[0;34m\u001b[0m\u001b[0;34m\u001b[0m\u001b[0m\n\u001b[1;32m   3803\u001b[0m             \u001b[0;32mexcept\u001b[0m \u001b[0mKeyError\u001b[0m \u001b[0;32mas\u001b[0m \u001b[0merr\u001b[0m\u001b[0;34m:\u001b[0m\u001b[0;34m\u001b[0m\u001b[0;34m\u001b[0m\u001b[0m\n\u001b[0;32m-> 3804\u001b[0;31m                 \u001b[0;32mraise\u001b[0m \u001b[0mKeyError\u001b[0m\u001b[0;34m(\u001b[0m\u001b[0mkey\u001b[0m\u001b[0;34m)\u001b[0m \u001b[0;32mfrom\u001b[0m \u001b[0merr\u001b[0m\u001b[0;34m\u001b[0m\u001b[0;34m\u001b[0m\u001b[0m\n\u001b[0m\u001b[1;32m   3805\u001b[0m             \u001b[0;32mexcept\u001b[0m \u001b[0mTypeError\u001b[0m\u001b[0;34m:\u001b[0m\u001b[0;34m\u001b[0m\u001b[0;34m\u001b[0m\u001b[0m\n\u001b[1;32m   3806\u001b[0m                 \u001b[0;31m# If we have a listlike key, _check_indexing_error will raise\u001b[0m\u001b[0;34m\u001b[0m\u001b[0;34m\u001b[0m\u001b[0m\n",
            "\u001b[0;31mKeyError\u001b[0m: 'Validation Accuracy'"
          ]
        }
      ]
    },
    {
      "cell_type": "code",
      "source": [
        "# Loading the best set of weights\n",
        "best = r'D:\\Career\\Artificial Intelligence\\PIAIC\\Artificial Intelligence Engineering\\Q3\\Assignments\\Lungs Cancer\\functional_api_cps\\cp-0030.ckpt'\n",
        "model.load_weights(best)\n"
      ],
      "metadata": {
        "id": "Kdso9Hdt618R"
      },
      "execution_count": null,
      "outputs": []
    },
    {
      "cell_type": "code",
      "source": [],
      "metadata": {
        "id": "haQutdkr7BB9"
      },
      "execution_count": null,
      "outputs": []
    },
    {
      "cell_type": "code",
      "source": [],
      "metadata": {
        "id": "SXNoNAvx7A00"
      },
      "execution_count": null,
      "outputs": []
    },
    {
      "cell_type": "code",
      "source": [],
      "metadata": {
        "id": "jBIuUmBU7An1"
      },
      "execution_count": null,
      "outputs": []
    },
    {
      "cell_type": "code",
      "source": [],
      "metadata": {
        "id": "NNEpW1QZ7AaU"
      },
      "execution_count": null,
      "outputs": []
    },
    {
      "cell_type": "code",
      "source": [],
      "metadata": {
        "id": "Y74xMvs561tu"
      },
      "execution_count": null,
      "outputs": []
    },
    {
      "cell_type": "code",
      "source": [
        "# import shutil\n",
        "\n",
        "def copy_folder_contents(source_folder, destination_folder):\n",
        "    try:\n",
        "        # Copy the entire folder and its contents recursively\n",
        "        shutil.copytree(source_folder, destination_folder)\n",
        "        print(f\"Contents of '{source_folder}' copied to '{destination_folder}' successfully.\")\n",
        "    except Exception as e:\n",
        "        print(f\"An error occurred: {str(e)}\")\n"
      ],
      "metadata": {
        "id": "RTSoVjwZsAYf"
      },
      "execution_count": null,
      "outputs": []
    },
    {
      "cell_type": "code",
      "source": [
        "# import matplotlib.pyplot as plt\n",
        "\n",
        "def plot_training_history(history):\n",
        "    \"\"\"\n",
        "    Plot training and validation accuracy and loss from a Keras training history.\n",
        "\n",
        "    Args:\n",
        "        history (dict): A Keras training history containing 'acc', 'val_acc', 'loss', and 'val_loss' keys.\n",
        "\n",
        "    Returns:\n",
        "        None\n",
        "    \"\"\"\n",
        "    acc = history.history['acc']\n",
        "    val_acc = history.history['val_acc']\n",
        "    loss = history.history['loss']\n",
        "    val_loss = history.history['val_loss']\n",
        "\n",
        "    epochs = range(1, len(acc) + 1)\n",
        "\n",
        "    # Plot training and validation accuracy\n",
        "    plt.plot(epochs, acc, 'bo', label='Training acc')\n",
        "    plt.plot(epochs, val_acc, 'b', label='Validation acc')\n",
        "    plt.title('Training and validation accuracy')\n",
        "    plt.legend()\n",
        "    plt.show()\n",
        "\n",
        "    # Plot training and validation loss\n",
        "    plt.figure()\n",
        "    plt.plot(epochs, loss, 'bo', label='Training loss')\n",
        "    plt.plot(epochs, val_loss, 'b', label='Validation loss')\n",
        "    plt.title('Training and validation loss')\n",
        "    plt.legend()\n",
        "    plt.show()\n",
        "\n",
        "# Example usage:\n",
        "# history = {\n",
        "#     'acc': [0.6, 0.7, 0.8, 0.9],\n",
        "#     'val_acc': [0.5, 0.6, 0.7, 0.8],\n",
        "#     'loss': [0.5, 0.4, 0.3, 0.2],\n",
        "#     'val_loss': [0.6, 0.5, 0.4, 0.3]\n",
        "# }\n"
      ],
      "metadata": {
        "id": "6mQa8vX6w29v"
      },
      "execution_count": null,
      "outputs": []
    },
    {
      "cell_type": "code",
      "source": [
        "# import os\n",
        "# import pandas as pd\n",
        "# import tensorflow as tf\n",
        "# from tensorflow.keras.models import load_model\n",
        "\n",
        "def evaluate_checkpoints(checkpoint_folder, model, test_generator, validation_generator):\n",
        "    checkpoint_files = [f for f in os.listdir(checkpoint_folder) if f.endswith('.ckpt.index')]\n",
        "\n",
        "    results = []\n",
        "\n",
        "    for checkpoint_file in checkpoint_files:\n",
        "        checkpoint_prefix = os.path.join(checkpoint_folder, checkpoint_file[:-6])\n",
        "\n",
        "        # Load the weights into the existing model\n",
        "        model.load_weights(checkpoint_prefix)\n",
        "\n",
        "        # Compile the model (if necessary)\n",
        "        # model.compile(optimizer='adam', loss='sparse_categorical_crossentropy', metrics=['accuracy'])\n",
        "\n",
        "        # Evaluate on the validation data (not test data)\n",
        "        validation_loss, validation_accuracy = model.evaluate(validation_generator)\n",
        "\n",
        "        # Evaluate on the test data\n",
        "        test_loss, test_accuracy = model.evaluate(test_generator)\n",
        "\n",
        "        results.append({\n",
        "            'Checkpoint': checkpoint_file,\n",
        "            'Validation Loss': validation_loss,\n",
        "            'Validation Accuracy': validation_accuracy,\n",
        "            'Test Loss': test_loss,\n",
        "            'Test Accuracy': test_accuracy\n",
        "        })\n",
        "\n",
        "    # Create a DataFrame from the results\n",
        "    results_df = pd.DataFrame(results)\n",
        "\n",
        "    return results_df\n",
        "\n"
      ],
      "metadata": {
        "id": "J09ErfJ3w4cv"
      },
      "execution_count": null,
      "outputs": []
    },
    {
      "cell_type": "code",
      "source": [
        "import matplotlib.pyplot as plt\n",
        "\n",
        "def plot_validation_and_test_accuracy(results_df):\n",
        "    \"\"\"\n",
        "    Plot validation and test accuracy from a DataFrame.\n",
        "\n",
        "    Args:\n",
        "        results_df (DataFrame): A DataFrame containing 'Validation Accuracy' and 'Test Accuracy' columns.\n",
        "\n",
        "    Returns:\n",
        "        None\n",
        "    \"\"\"\n",
        "    plt.plot(range(30), results_df['Validation Accuracy'], 'b', label='Validation acc')\n",
        "    plt.plot(range(30), results_df['Test Accuracy'], 'r', label='Test acc')\n",
        "    plt.legend()\n",
        "    plt.show()\n",
        "\n",
        "# Example usage:\n",
        "# Assuming you have a DataFrame named results_df\n",
        "# results_df = ...  # Your DataFrame with 'Validation Accuracy' and 'Test Accuracy' columns\n"
      ],
      "metadata": {
        "id": "hg-nENTtQjCB"
      },
      "execution_count": null,
      "outputs": []
    },
    {
      "cell_type": "code",
      "source": [
        "# import os\n",
        "# import shutil\n",
        "\n",
        "def move_files(source_folder, destination_folder, num_files_to_move):\n",
        "    # Create the destination folder if it doesn't exist\n",
        "    os.makedirs(destination_folder, exist_ok=True)\n",
        "\n",
        "    # List all files in the source folder and sort them alphabetically\n",
        "    files = os.listdir(source_folder)\n",
        "    files.sort()\n",
        "\n",
        "    # Move the specified number of files to the destination folder\n",
        "    for filename in files[:num_files_to_move]:\n",
        "        source_path = os.path.join(source_folder, filename)\n",
        "        destination_path = os.path.join(destination_folder, filename)\n",
        "        shutil.move(source_path, destination_path)\n",
        "        print(f\"Moved: {filename}\")"
      ],
      "metadata": {
        "id": "c2BiD87DWYg3"
      },
      "execution_count": null,
      "outputs": []
    },
    {
      "cell_type": "code",
      "source": [
        "# import numpy as np\n",
        "# import matplotlib.pyplot as plt\n",
        "\n",
        "def plot_confusion_matrix(conf_matrix, class_labels):\n",
        "    \"\"\"\n",
        "    Plot a confusion matrix heatmap.\n",
        "\n",
        "    Args:\n",
        "        conf_matrix (numpy.ndarray): A 2D numpy array representing the confusion matrix.\n",
        "        class_labels (list): List of class labels.\n",
        "\n",
        "    Returns:\n",
        "        None\n",
        "    \"\"\"\n",
        "    plt.figure(figsize=(6, 4))\n",
        "    plt.imshow(conf_matrix, interpolation='nearest', cmap=plt.cm.Blues)\n",
        "    plt.title('Confusion Matrix')\n",
        "    plt.colorbar()\n",
        "\n",
        "    num_classes = len(class_labels)\n",
        "    plt.xticks(np.arange(num_classes), class_labels)\n",
        "    plt.yticks(np.arange(num_classes), class_labels)\n",
        "\n",
        "    thresh = conf_matrix.max() / 2\n",
        "    for i in range(num_classes):\n",
        "        for j in range(num_classes):\n",
        "            plt.text(j, i, format(conf_matrix[i, j], 'd'),\n",
        "                     ha=\"center\", va=\"center\",\n",
        "                     color=\"white\" if conf_matrix[i, j] > thresh else \"black\")\n",
        "\n",
        "    plt.tight_layout()\n",
        "    plt.ylabel('True Labels')\n",
        "    plt.xlabel('Predicted Labels')\n",
        "    plt.show()\n",
        "\n",
        "# # Example usage:\n",
        "# # Replace 'conf_matrix' and 'class_labels' with your actual confusion matrix and class labels\n",
        "# conf_matrix = np.array([[50, 10], [5, 85]])\n",
        "# class_labels = ['Negative', 'Positive']\n",
        "\n"
      ],
      "metadata": {
        "id": "uy3iRKZbesXO"
      },
      "execution_count": null,
      "outputs": []
    },
    {
      "cell_type": "code",
      "source": [
        "# import numpy as np\n",
        "# import matplotlib.pyplot as plt\n",
        "\n",
        "def plot_confusion_matrix(conf_matrix, class_labels):\n",
        "    \"\"\"\n",
        "    Plot a confusion matrix heatmap.\n",
        "\n",
        "    Args:\n",
        "        conf_matrix (numpy.ndarray): A 2D numpy array representing the confusion matrix.\n",
        "        class_labels (list): List of class labels.\n",
        "\n",
        "    Returns:\n",
        "        None\n",
        "    \"\"\"\n",
        "    plt.figure(figsize=(6, 4))\n",
        "    plt.imshow(conf_matrix, interpolation='nearest', cmap=plt.cm.Blues)\n",
        "    plt.title('Confusion Matrix')\n",
        "    plt.colorbar()\n",
        "\n",
        "    num_classes = len(class_labels)\n",
        "    plt.xticks(np.arange(num_classes), class_labels)\n",
        "    plt.yticks(np.arange(num_classes), class_labels)\n",
        "\n",
        "    thresh = conf_matrix.max() / 2\n",
        "    for i in range(num_classes):\n",
        "        for j in range(num_classes):\n",
        "            plt.text(j, i, format(conf_matrix[i, j], 'd'),\n",
        "                     ha=\"center\", va=\"center\",\n",
        "                     color=\"white\" if conf_matrix[i, j] > thresh else \"black\")\n",
        "\n",
        "    plt.tight_layout()\n",
        "    plt.ylabel('True Labels')\n",
        "    plt.xlabel('Predicted Labels')\n",
        "    plt.show()\n",
        "\n",
        "# # Example usage:\n",
        "# # Replace 'conf_matrix' and 'class_labels' with your actual confusion matrix and class labels\n",
        "# conf_matrix = np.array([[50, 10], [5, 85]])\n",
        "class_labels = ['Negative', 'Positive']\n",
        "\n"
      ],
      "metadata": {
        "id": "-RJN3fL4j8Zw"
      },
      "execution_count": null,
      "outputs": []
    },
    {
      "cell_type": "code",
      "source": [],
      "metadata": {
        "id": "HYip8Qwgj83f"
      },
      "execution_count": null,
      "outputs": []
    },
    {
      "cell_type": "code",
      "source": [],
      "metadata": {
        "id": "U22gjVuauZu7"
      },
      "execution_count": null,
      "outputs": []
    },
    {
      "cell_type": "code",
      "source": [
        "import tensorflow as tf\n",
        "import numpy as np\n",
        "\n",
        "def preprocess_image(image_path):\n",
        "    # Read the image from the file path\n",
        "    image = tf.io.read_file(image_path)\n",
        "    image = tf.image.decode_image(image, channels=3)\n",
        "    image = tf.image.convert_image_dtype(image, tf.float32)\n",
        "    image = tf.image.resize(image, (200,200))\n",
        "    image = image.numpy()\n",
        "    return image\n",
        "\n",
        "\n",
        "model = tf.keras.models.load_model('/content/simple_augmented_with_best_weights.h5')\n",
        "\n",
        "inp_image = preprocess_image(\"/content/IM-0013-0001.jpeg\")\n",
        "\n",
        "# Expand the dimensions to match the expected input shape\n",
        "inp_image = np.expand_dims(inp_image,axis=0)\n",
        "\n",
        "predictions = model.predict(inp_image)"
      ],
      "metadata": {
        "colab": {
          "base_uri": "https://localhost:8080/"
        },
        "id": "DET8O9SauZrz",
        "outputId": "d979ed51-02e1-4d23-9dac-19b591c6cf50"
      },
      "execution_count": 49,
      "outputs": [
        {
          "output_type": "stream",
          "name": "stdout",
          "text": [
            "1/1 [==============================] - 0s 188ms/step\n"
          ]
        }
      ]
    },
    {
      "cell_type": "code",
      "source": [
        "predictions"
      ],
      "metadata": {
        "colab": {
          "base_uri": "https://localhost:8080/"
        },
        "id": "MiAARAvl3usX",
        "outputId": "1f48ceaa-f8f9-4875-f129-2cb7b8ab347e"
      },
      "execution_count": 53,
      "outputs": [
        {
          "output_type": "execute_result",
          "data": {
            "text/plain": [
              "array([[0.9695891]], dtype=float32)"
            ]
          },
          "metadata": {},
          "execution_count": 53
        }
      ]
    },
    {
      "cell_type": "code",
      "source": [
        "class_id = np.argmax(predictions.round())\n",
        "confidence = predictions[class_id]\n"
      ],
      "metadata": {
        "id": "oy6N53i4uog_"
      },
      "execution_count": 52,
      "outputs": []
    },
    {
      "cell_type": "code",
      "source": [
        "print(class_id)\n",
        "print(confidence)"
      ],
      "metadata": {
        "colab": {
          "base_uri": "https://localhost:8080/"
        },
        "id": "1IVdLz5vyKEL",
        "outputId": "a1c761cd-e5ff-4db7-fad0-e83c08d84e1c"
      },
      "execution_count": 54,
      "outputs": [
        {
          "output_type": "stream",
          "name": "stdout",
          "text": [
            "0\n",
            "[0.9695891]\n"
          ]
        }
      ]
    },
    {
      "cell_type": "code",
      "source": [
        "# Assuming you're doing binary classification, you can round the prediction\n",
        "rounded_predictions = np.round(predictions)\n",
        "\n",
        "class_id = rounded_predictions[0][0]\n",
        "confidence = predictions[0][0]\n",
        "\n",
        "print(class_id)\n",
        "print(confidence)\n"
      ],
      "metadata": {
        "colab": {
          "base_uri": "https://localhost:8080/"
        },
        "id": "YAJWibYoySzF",
        "outputId": "02078898-8778-4ad7-a780-908ff10d40dc"
      },
      "execution_count": 55,
      "outputs": [
        {
          "output_type": "stream",
          "name": "stdout",
          "text": [
            "1.0\n",
            "0.9695891\n"
          ]
        }
      ]
    },
    {
      "cell_type": "code",
      "source": [],
      "metadata": {
        "id": "71HwAOSd14Fu"
      },
      "execution_count": null,
      "outputs": []
    }
  ]
}